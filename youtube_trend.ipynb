{
 "cells": [
  {
   "cell_type": "code",
   "execution_count": 1,
   "metadata": {},
   "outputs": [
    {
     "data": {
      "application/vnd.jupyter.widget-view+json": {
       "model_id": "a2d745fac8954169bf77f346629fef20",
       "version_major": 2,
       "version_minor": 0
      },
      "text/plain": [
       "VBox()"
      ]
     },
     "metadata": {},
     "output_type": "display_data"
    },
    {
     "name": "stdout",
     "output_type": "stream",
     "text": [
      "Starting Spark application\n"
     ]
    },
    {
     "data": {
      "text/html": [
       "<table>\n",
       "<tr><th>ID</th><th>YARN Application ID</th><th>Kind</th><th>State</th><th>Spark UI</th><th>Driver log</th><th>Current session?</th></tr><tr><td>2</td><td>application_1587690280906_0003</td><td>pyspark</td><td>idle</td><td><a target=\"_blank\" href=\"http://ip-172-31-21-227.us-east-2.compute.internal:20888/proxy/application_1587690280906_0003/\">Link</a></td><td><a target=\"_blank\" href=\"http://ip-172-31-20-159.us-east-2.compute.internal:8042/node/containerlogs/container_1587690280906_0003_01_000001/livy\">Link</a></td><td>✔</td></tr></table>"
      ],
      "text/plain": [
       "<IPython.core.display.HTML object>"
      ]
     },
     "metadata": {},
     "output_type": "display_data"
    },
    {
     "data": {
      "application/vnd.jupyter.widget-view+json": {
       "model_id": "",
       "version_major": 2,
       "version_minor": 0
      },
      "text/plain": [
       "FloatProgress(value=0.0, bar_style='info', description='Progress:', layout=Layout(height='25px', width='50%'),…"
      ]
     },
     "metadata": {},
     "output_type": "display_data"
    },
    {
     "name": "stdout",
     "output_type": "stream",
     "text": [
      "SparkSession available as 'spark'.\n"
     ]
    },
    {
     "data": {
      "application/vnd.jupyter.widget-view+json": {
       "model_id": "",
       "version_major": 2,
       "version_minor": 0
      },
      "text/plain": [
       "FloatProgress(value=0.0, bar_style='info', description='Progress:', layout=Layout(height='25px', width='50%'),…"
      ]
     },
     "metadata": {},
     "output_type": "display_data"
    },
    {
     "name": "stdout",
     "output_type": "stream",
     "text": [
      "Collecting matplotlib\n",
      "  Using cached matplotlib-3.2.1-cp36-cp36m-manylinux1_x86_64.whl (12.4 MB)\n",
      "Collecting pyparsing!=2.0.4,!=2.1.2,!=2.1.6,>=2.0.1\n",
      "  Using cached pyparsing-2.4.7-py2.py3-none-any.whl (67 kB)\n",
      "Requirement already satisfied: numpy>=1.11 in /usr/local/lib64/python3.6/site-packages (from matplotlib) (1.14.5)\n",
      "Collecting python-dateutil>=2.1\n",
      "  Using cached python_dateutil-2.8.1-py2.py3-none-any.whl (227 kB)\n",
      "Collecting kiwisolver>=1.0.1\n",
      "  Using cached kiwisolver-1.2.0-cp36-cp36m-manylinux1_x86_64.whl (88 kB)\n",
      "Collecting cycler>=0.10\n",
      "  Using cached cycler-0.10.0-py2.py3-none-any.whl (6.5 kB)\n",
      "Requirement already satisfied: six>=1.5 in /usr/local/lib/python3.6/site-packages (from python-dateutil>=2.1->matplotlib) (1.12.0)\n",
      "Installing collected packages: pyparsing, python-dateutil, kiwisolver, cycler, matplotlib\n",
      "Successfully installed cycler-0.10.0 kiwisolver-1.2.0 matplotlib-3.2.1 pyparsing-2.4.7 python-dateutil-2.8.1\n",
      "\n",
      "Collecting seaborn\n",
      "  Using cached seaborn-0.10.0-py3-none-any.whl (215 kB)\n",
      "Collecting scipy>=1.0.1\n",
      "  Using cached scipy-1.4.1-cp36-cp36m-manylinux1_x86_64.whl (26.1 MB)\n",
      "Requirement already satisfied: matplotlib>=2.1.2 in /mnt/tmp/1587709070867-0/lib64/python3.6/site-packages (from seaborn) (3.2.1)\n",
      "Requirement already satisfied: numpy>=1.13.3 in /usr/local/lib64/python3.6/site-packages (from seaborn) (1.14.5)\n",
      "Collecting pandas>=0.22.0\n",
      "  Using cached pandas-1.0.3-cp36-cp36m-manylinux1_x86_64.whl (10.0 MB)\n",
      "Requirement already satisfied: pyparsing!=2.0.4,!=2.1.2,!=2.1.6,>=2.0.1 in /mnt/tmp/1587709070867-0/lib/python3.6/site-packages (from matplotlib>=2.1.2->seaborn) (2.4.7)\n",
      "Requirement already satisfied: python-dateutil>=2.1 in /mnt/tmp/1587709070867-0/lib/python3.6/site-packages (from matplotlib>=2.1.2->seaborn) (2.8.1)\n",
      "Requirement already satisfied: kiwisolver>=1.0.1 in /mnt/tmp/1587709070867-0/lib64/python3.6/site-packages (from matplotlib>=2.1.2->seaborn) (1.2.0)\n",
      "Requirement already satisfied: cycler>=0.10 in /mnt/tmp/1587709070867-0/lib/python3.6/site-packages (from matplotlib>=2.1.2->seaborn) (0.10.0)\n",
      "Requirement already satisfied: pytz>=2017.2 in /usr/local/lib/python3.6/site-packages (from pandas>=0.22.0->seaborn) (2019.2)\n",
      "Requirement already satisfied: six>=1.5 in /usr/local/lib/python3.6/site-packages (from python-dateutil>=2.1->matplotlib>=2.1.2->seaborn) (1.12.0)\n",
      "Installing collected packages: scipy, pandas, seaborn\n",
      "Successfully installed pandas-1.0.3 scipy-1.4.1 seaborn-0.10.0\n",
      "\n",
      "Collecting pandas==0.25.1\n",
      "  Using cached pandas-0.25.1-cp36-cp36m-manylinux1_x86_64.whl (10.5 MB)\n",
      "Requirement already satisfied: python-dateutil>=2.6.1 in /mnt/tmp/1587709070867-0/lib/python3.6/site-packages (from pandas==0.25.1) (2.8.1)\n",
      "Requirement already satisfied: numpy>=1.13.3 in /usr/local/lib64/python3.6/site-packages (from pandas==0.25.1) (1.14.5)\n",
      "Requirement already satisfied: pytz>=2017.2 in /usr/local/lib/python3.6/site-packages (from pandas==0.25.1) (2019.2)\n",
      "Requirement already satisfied: six>=1.5 in /usr/local/lib/python3.6/site-packages (from python-dateutil>=2.6.1->pandas==0.25.1) (1.12.0)\n",
      "Installing collected packages: pandas\n",
      "  Attempting uninstall: pandas\n",
      "    Found existing installation: pandas 1.0.3\n",
      "    Uninstalling pandas-1.0.3:\n",
      "      Successfully uninstalled pandas-1.0.3\n",
      "Successfully installed pandas-0.25.1\n",
      "\n",
      "Requirement already satisfied: scipy in /mnt/tmp/1587709070867-0/lib64/python3.6/site-packages (1.4.1)\n",
      "Requirement already satisfied: numpy>=1.13.3 in /usr/local/lib64/python3.6/site-packages (from scipy) (1.14.5)\n",
      "\n",
      "Processing /mnt/var/lib/livy/.cache/pip/wheels/61/13/fb/bde87253355995b963f6355ca563a614453668bfc1b44fdc54/stop_words-2018.7.23-py3-none-any.whl\n",
      "Installing collected packages: stop-words\n",
      "Successfully installed stop-words-2018.7.23\n",
      "\n",
      "Collecting TextBlob\n",
      "  Using cached textblob-0.15.3-py2.py3-none-any.whl (636 kB)\n",
      "Requirement already satisfied: nltk>=3.1 in /usr/local/lib/python3.6/site-packages (from TextBlob) (3.4.5)\n",
      "Requirement already satisfied: six in /usr/local/lib/python3.6/site-packages (from nltk>=3.1->TextBlob) (1.12.0)\n",
      "Installing collected packages: TextBlob\n",
      "Successfully installed TextBlob-0.15.3\n",
      "\n",
      "Requirement already satisfied: nltk in /usr/local/lib/python3.6/site-packages (3.4.5)\n",
      "Requirement already satisfied: six in /usr/local/lib/python3.6/site-packages (from nltk) (1.12.0)"
     ]
    }
   ],
   "source": [
    "import os\n",
    "os.environ['LANG'] = 'en_US.UTF-8'\n",
    "os.environ['LC_ALL'] = 'en_US.UTF-8'\n",
    "sc.install_pypi_package(\"matplotlib\", \"https://pypi.org/simple\")\n",
    "sc.install_pypi_package(\"seaborn\")\n",
    "sc.install_pypi_package(\"pandas==0.25.1\")\n",
    "sc.install_pypi_package(\"scipy\")\n",
    "sc.install_pypi_package('stop_words')\n",
    "sc.install_pypi_package('TextBlob')\n",
    "sc.install_pypi_package('nltk')\n",
    "import matplotlib.pyplot as plt\n",
    "import pandas as pd\n",
    "import re\n",
    "from stop_words import get_stop_words\n",
    "from scipy.stats import chi2_contingency, chi2\n",
    "from pyspark import sql, SparkConf, SparkContext\n",
    "from datetime import datetime\n",
    "import pyspark.sql.functions as F\n",
    "from pyspark.sql.types import  * # DateType, TimestampType, ArrayType, IntegerType, DoubleType\n",
    "from pyspark.ml.regression import LinearRegression\n",
    "from pyspark.ml.evaluation import RegressionEvaluator\n",
    "from pyspark.ml.classification import LogisticRegression\n",
    "from pyspark.ml.feature import VectorAssembler\n",
    "from pyspark.ml.evaluation import BinaryClassificationEvaluator\n",
    "import time\n",
    "from collections import defaultdict\n",
    "import time\n",
    "import nltk\n",
    "\n",
    "sc = SparkContext.getOrCreate()\n",
    "sqlContext = sql.SQLContext(sc)\n",
    "stop_words = list(get_stop_words('en')) "
   ]
  },
  {
   "cell_type": "code",
   "execution_count": 2,
   "metadata": {},
   "outputs": [
    {
     "data": {
      "application/vnd.jupyter.widget-view+json": {
       "model_id": "cf343ccf2a104cc281c632c3dd342ecc",
       "version_major": 2,
       "version_minor": 0
      },
      "text/plain": [
       "VBox()"
      ]
     },
     "metadata": {},
     "output_type": "display_data"
    },
    {
     "data": {
      "application/vnd.jupyter.widget-view+json": {
       "model_id": "",
       "version_major": 2,
       "version_minor": 0
      },
      "text/plain": [
       "FloatProgress(value=0.0, bar_style='info', description='Progress:', layout=Layout(height='25px', width='50%'),…"
      ]
     },
     "metadata": {},
     "output_type": "display_data"
    }
   ],
   "source": [
    "\n",
    "def process_tags(string):\n",
    "    tag_list = str(string).strip().split(\"|\")\n",
    "    tags = []\n",
    "    for tg in tag_list: \n",
    "        clean_tg = str(tg).lower()\n",
    "        for k in clean_tg.split(\"/\"):\n",
    "            k = re.sub('[^A-Za-z]+','', k)\n",
    "            if (k not in stop_words) and (len(tg)>2) and not k.isnumeric():\n",
    "                tags.append(k)         \n",
    "    return tags\n",
    "\n",
    "class CountryData(object):\n",
    "    \n",
    "    df = None\n",
    "    tag_frame = None\n",
    "    numeric_cols = [\"views\",\"comment_count\",\"likes\",\"dislikes\"]\n",
    "    date_cols = [\"publish_time\"]\n",
    "    drop_cols = [\"thumbnail_link\",\"video_id\",\"video_error_or_removed\"]\n",
    "    cat_cols = [\"category\",\"publish_day\"]\n",
    "    \n",
    "    def __init__(self,file):\n",
    "        self.df = sqlContext.read.csv(file, header=True)\n",
    "        self.numeric()\n",
    "        self.publish_time()\n",
    "        self.clean_tags()\n",
    "        self.process_desc()\n",
    "        # self.trending_day()\n",
    "        self.read_category()\n",
    "        # self.classify_tags()\n",
    "        \n",
    "    def get_df(self):\n",
    "        return self.df\n",
    "    \n",
    "    def get_n_rows(self,n):\n",
    "        return self.df.limit(n)\n",
    "    \n",
    "    def schema(self):\n",
    "        self.df.printSchema()\n",
    "        \n",
    "    def read_category(self):\n",
    "        category_data=spark.read.option(\"multiline\",True).json(\"s3://aws-emr-resources-337767501977-us-east-2/youtube-new/US_category_id.json\")\n",
    "        category_id_map=dict()\n",
    "        titles=[]\n",
    "        for row in category_data.collect():\n",
    "            for i in range(len(row['items'])):\n",
    "                category_id_map[row['items'][i]['id']]=row['items'][i]['snippet']['title']\n",
    "        # print(category_id_map)\n",
    "        # self.df.select(\"category_id\").distinct().show()\n",
    "        self.df = self.df.withColumn(\"category\", F.col(\"category_id\"))\n",
    "        udf = F.UserDefinedFunction(lambda x: 'NA' if (str(x) not in category_id_map) else category_id_map[str(x)], StringType())\n",
    "        self.df = self.df.withColumn('category', udf(self.df.category))\n",
    "        # self.df.select(\"category\").distinct().show()\n",
    "    \n",
    "    def process_desc(self):\n",
    "        udf_len = F.udf(lambda x:len(x) if x is not None else 0,returnType=IntegerType())\n",
    "        self.df = self.df.withColumn(\"num_tags\",udf_len(self.df.cleaned_tags))\n",
    "        self.df = self.df.withColumn(\"desc_length\",udf_len(self.df.description))\n",
    "        self.df = self.df.withColumn(\"title_length\",udf_len(self.df.title))\n",
    "        self.tag_frame = self.df.select(\"cleaned_tags\",\"like_labels\",\"dislike_labels\").withColumn(\"exploded_tags\", F.explode(\"cleaned_tags\")).drop(\"cleaned_tags\")\n",
    "        \n",
    "    \n",
    "    def clean_tags(self):\n",
    "        udf_func = F.udf(lambda x:process_tags(x),ArrayType(StringType()))\n",
    "        # Thresholds for like and dislik labels are hardcoded using visual analysis\n",
    "        like_lbl = F.udf(lambda x: 1 if ((x is not None) and (x>0.05)) else 0, IntegerType())\n",
    "        dislike_lbl = F.udf(lambda x: 1 if ((x is not None) and (x>0.01)) else 0, IntegerType())\n",
    "        self.df = self.df.withColumn(\"like_ratio\",(F.col(\"likes\")/F.col(\"views\")).cast(DoubleType()))\n",
    "        self.df = self.df.withColumn(\"dislike_ratio\",(F.col(\"dislikes\")/F.col(\"views\")).cast(DoubleType()))\n",
    "        self.df = self.df.withColumn(\"like_labels\",like_lbl(self.df[\"like_ratio\"]))\n",
    "        self.df = self.df.withColumn(\"dislike_labels\",dislike_lbl(self.df[\"dislike_ratio\"]))\n",
    "        print(self.df.agg(F.sum(\"like_labels\")).collect()[0][0],self.df.agg(F.sum(\"dislike_labels\")).collect()[0][0])\n",
    "        self.df = self.df.fillna(0.0)\n",
    "        self.df = self.df.withColumn(\"cleaned_tags\",udf_func(self.df.tags))     \n",
    "        \n",
    "    def numeric(self):\n",
    "        for col in self.drop_cols:\n",
    "            self.df = self.df.drop(col)\n",
    "        for col in self.numeric_cols:\n",
    "            self.df = self.df.withColumn(col,self.df[col].cast(IntegerType()))\n",
    "            self.df = self.df.fillna({col:0})\n",
    "    \n",
    "    def trending_day(self):\n",
    "        self.df = self.df.withColumn(\"trending_date\",self.df[\"trending_date\"].cast(DateType()))\n",
    "        self.df = self.df.withColumn(\"trending_day\",F.date_format('trending_date','E'))\n",
    "        \n",
    "    def publish_time(self):\n",
    "        self.df = self.df.withColumn(\"publish_time\",self.df[\"publish_time\"].cast(TimestampType()))\n",
    "        self.df = self.df.withColumn('publish_day', F.date_format('publish_time', 'E'))\n",
    "        self.df = self.df.fillna({\"publish_day\":\"NA\"})\n",
    "        self.df = self.df.withColumn('publish_day_numeric', F.date_format('publish_time', 'u').astype(\"double\"))\n",
    "\n",
    "  \n"
   ]
  },
  {
   "cell_type": "code",
   "execution_count": 3,
   "metadata": {},
   "outputs": [
    {
     "data": {
      "application/vnd.jupyter.widget-view+json": {
       "model_id": "f86ce6b8e16d407c8f53f9d338c55870",
       "version_major": 2,
       "version_minor": 0
      },
      "text/plain": [
       "VBox()"
      ]
     },
     "metadata": {},
     "output_type": "display_data"
    },
    {
     "data": {
      "application/vnd.jupyter.widget-view+json": {
       "model_id": "",
       "version_major": 2,
       "version_minor": 0
      },
      "text/plain": [
       "FloatProgress(value=0.0, bar_style='info', description='Progress:', layout=Layout(height='25px', width='50%'),…"
      ]
     },
     "metadata": {},
     "output_type": "display_data"
    },
    {
     "name": "stdout",
     "output_type": "stream",
     "text": [
      "8961 598\n",
      "root\n",
      " |-- trending_date: string (nullable = true)\n",
      " |-- title: string (nullable = true)\n",
      " |-- channel_title: string (nullable = true)\n",
      " |-- category_id: string (nullable = true)\n",
      " |-- publish_time: timestamp (nullable = true)\n",
      " |-- tags: string (nullable = true)\n",
      " |-- views: integer (nullable = false)\n",
      " |-- likes: integer (nullable = false)\n",
      " |-- dislikes: integer (nullable = false)\n",
      " |-- comment_count: integer (nullable = false)\n",
      " |-- comments_disabled: string (nullable = true)\n",
      " |-- ratings_disabled: string (nullable = true)\n",
      " |-- description: string (nullable = true)\n",
      " |-- publish_day: string (nullable = false)\n",
      " |-- publish_day_numeric: double (nullable = false)\n",
      " |-- like_ratio: double (nullable = false)\n",
      " |-- dislike_ratio: double (nullable = false)\n",
      " |-- like_labels: integer (nullable = true)\n",
      " |-- dislike_labels: integer (nullable = true)\n",
      " |-- cleaned_tags: array (nullable = true)\n",
      " |    |-- element: string (containsNull = true)\n",
      " |-- num_tags: integer (nullable = true)\n",
      " |-- desc_length: integer (nullable = true)\n",
      " |-- title_length: integer (nullable = true)\n",
      " |-- category: string (nullable = true)"
     ]
    }
   ],
   "source": [
    "ca = CountryData(\"s3://aws-emr-resources-337767501977-us-east-2/youtube-new/USvideos.csv\")\n",
    "data = ca.get_df()\n",
    "subset = ca.get_n_rows(200)\n",
    "ca.schema()"
   ]
  },
  {
   "cell_type": "code",
   "execution_count": 4,
   "metadata": {},
   "outputs": [
    {
     "data": {
      "application/vnd.jupyter.widget-view+json": {
       "model_id": "a63129b89e814bfb91623f8f15817044",
       "version_major": 2,
       "version_minor": 0
      },
      "text/plain": [
       "VBox()"
      ]
     },
     "metadata": {},
     "output_type": "display_data"
    },
    {
     "data": {
      "application/vnd.jupyter.widget-view+json": {
       "model_id": "",
       "version_major": 2,
       "version_minor": 0
      },
      "text/plain": [
       "FloatProgress(value=0.0, bar_style='info', description='Progress:', layout=Layout(height='25px', width='50%'),…"
      ]
     },
     "metadata": {},
     "output_type": "display_data"
    }
   ],
   "source": [
    "def get_tag_score(x):\n",
    "    score = 0\n",
    "    if x :\n",
    "        for k in x:\n",
    "            sk = tagwt.get(k)\n",
    "            if sk:\n",
    "                score += (sk[0]-sk[1])\n",
    "    return score\n",
    "\n",
    "tags = ca.tag_frame.rdd.filter(lambda x: not(x.like_labels == 0 and x.dislike_labels == 0) )\n",
    "tagwt = tags.map(lambda x: (x.exploded_tags, [x.like_labels, x.dislike_labels])).reduceByKey(lambda acc,val : (acc[0]+val[0], acc[1]+val[1]) ).collectAsMap()\n",
    "udf_t = F.udf(lambda x : get_tag_score(x),IntegerType())\n",
    "data = data.withColumn(\"tag_score\",udf_t(data.cleaned_tags))"
   ]
  },
  {
   "cell_type": "code",
   "execution_count": 47,
   "metadata": {},
   "outputs": [
    {
     "data": {
      "application/vnd.jupyter.widget-view+json": {
       "model_id": "27ebabb188664609a135858fdd10a830",
       "version_major": 2,
       "version_minor": 0
      },
      "text/plain": [
       "VBox()"
      ]
     },
     "metadata": {},
     "output_type": "display_data"
    },
    {
     "data": {
      "application/vnd.jupyter.widget-view+json": {
       "model_id": "",
       "version_major": 2,
       "version_minor": 0
      },
      "text/plain": [
       "FloatProgress(value=0.0, bar_style='info', description='Progress:', layout=Layout(height='25px', width='50%'),…"
      ]
     },
     "metadata": {},
     "output_type": "display_data"
    },
    {
     "name": "stderr",
     "output_type": "stream",
     "text": [
      "when() missing 1 required positional argument: 'value'\n",
      "Traceback (most recent call last):\n",
      "TypeError: when() missing 1 required positional argument: 'value'\n",
      "\n"
     ]
    }
   ],
   "source": [
    "### Trendign date is still under question So is category\n",
    "\n",
    "m = subset[\"trending_date\",\"title\"]\n",
    "# udf = F.udf(lambda x:datetime.strptime(x,\"%y.%d.%m\") if x else None, DateType())\n",
    "# m = m.withColumn(\"new_date\",udf(m.trending_date))\n",
    "m = m.select(F.to_date(m.trending_date, \"%yy.%mm.%dd\").alias(\"dt\"))\n",
    "#print(m.columns)\n",
    "m.select(F.count(F.when(F.isnan(\"dt\"))))"
   ]
  },
  {
   "cell_type": "code",
   "execution_count": 5,
   "metadata": {},
   "outputs": [
    {
     "data": {
      "application/vnd.jupyter.widget-view+json": {
       "model_id": "",
       "version_major": 2,
       "version_minor": 0
      },
      "text/plain": [
       "FloatProgress(value=0.0, bar_style='info', description='Progress:', layout=Layout(height='25px', width='50%'),…"
      ]
     },
     "metadata": {},
     "output_type": "display_data"
    },
    {
     "data": {
      "application/vnd.jupyter.widget-view+json": {
       "model_id": "",
       "version_major": 2,
       "version_minor": 0
      },
      "text/plain": [
       "FloatProgress(value=0.0, bar_style='info', description='Progress:', layout=Layout(height='25px', width='50%'),…"
      ]
     },
     "metadata": {},
     "output_type": "display_data"
    }
   ],
   "source": [
    "%%spark -o liked -n 50000\n",
    "liked = data[\"like_ratio\",\"dislike_ratio\"]"
   ]
  },
  {
   "cell_type": "code",
   "execution_count": 6,
   "metadata": {},
   "outputs": [
    {
     "data": {
      "application/vnd.jupyter.widget-view+json": {
       "model_id": "",
       "version_major": 2,
       "version_minor": 0
      },
      "text/plain": [
       "FloatProgress(value=0.0, bar_style='info', description='Progress:', layout=Layout(height='25px', width='50%'),…"
      ]
     },
     "metadata": {},
     "output_type": "display_data"
    },
    {
     "data": {
      "application/vnd.jupyter.widget-view+json": {
       "model_id": "",
       "version_major": 2,
       "version_minor": 0
      },
      "text/plain": [
       "FloatProgress(value=0.0, bar_style='info', description='Progress:', layout=Layout(height='25px', width='50%'),…"
      ]
     },
     "metadata": {},
     "output_type": "display_data"
    }
   ],
   "source": [
    "%%spark -o categorical -n 50000\n",
    "categorical = data[\"publish_day\",\"category\"]"
   ]
  },
  {
   "cell_type": "code",
   "execution_count": 41,
   "metadata": {},
   "outputs": [
    {
     "data": {
      "application/vnd.jupyter.widget-view+json": {
       "model_id": "",
       "version_major": 2,
       "version_minor": 0
      },
      "text/plain": [
       "FloatProgress(value=0.0, bar_style='info', description='Progress:', layout=Layout(height='25px', width='50%'),…"
      ]
     },
     "metadata": {},
     "output_type": "display_data"
    },
    {
     "data": {
      "application/vnd.jupyter.widget-view+json": {
       "model_id": "",
       "version_major": 2,
       "version_minor": 0
      },
      "text/plain": [
       "FloatProgress(value=0.0, bar_style='info', description='Progress:', layout=Layout(height='25px', width='50%'),…"
      ]
     },
     "metadata": {},
     "output_type": "display_data"
    }
   ],
   "source": [
    "%%spark -o count_based -n 50000\n",
    "count_based = data[\"comment_count\",\"desc_length\",\"num_tags\",\"title_length\",\"tag_score\"]"
   ]
  },
  {
   "cell_type": "code",
   "execution_count": 5,
   "metadata": {},
   "outputs": [
    {
     "data": {
      "application/vnd.jupyter.widget-view+json": {
       "model_id": "c753a51163ec432aadd19c72934ae9ee",
       "version_major": 2,
       "version_minor": 0
      },
      "text/plain": [
       "VBox()"
      ]
     },
     "metadata": {},
     "output_type": "display_data"
    },
    {
     "data": {
      "application/vnd.jupyter.widget-view+json": {
       "model_id": "",
       "version_major": 2,
       "version_minor": 0
      },
      "text/plain": [
       "FloatProgress(value=0.0, bar_style='info', description='Progress:', layout=Layout(height='25px', width='50%'),…"
      ]
     },
     "metadata": {},
     "output_type": "display_data"
    },
    {
     "name": "stdout",
     "output_type": "stream",
     "text": [
      "[StringIndexer_5b9eb57d0798, OneHotEncoder_d6ff25de5e05, StringIndexer_edc17122286c, OneHotEncoder_76605b7215b6]\n",
      "root\n",
      " |-- trending_date: string (nullable = true)\n",
      " |-- title: string (nullable = true)\n",
      " |-- channel_title: string (nullable = true)\n",
      " |-- category_id: string (nullable = true)\n",
      " |-- publish_time: timestamp (nullable = true)\n",
      " |-- tags: string (nullable = true)\n",
      " |-- views: integer (nullable = false)\n",
      " |-- likes: integer (nullable = false)\n",
      " |-- dislikes: integer (nullable = false)\n",
      " |-- comment_count: integer (nullable = false)\n",
      " |-- comments_disabled: string (nullable = true)\n",
      " |-- ratings_disabled: string (nullable = true)\n",
      " |-- description: string (nullable = true)\n",
      " |-- publish_day: string (nullable = false)\n",
      " |-- publish_day_numeric: double (nullable = false)\n",
      " |-- like_ratio: double (nullable = false)\n",
      " |-- dislike_ratio: double (nullable = false)\n",
      " |-- like_labels: integer (nullable = true)\n",
      " |-- dislike_labels: integer (nullable = true)\n",
      " |-- cleaned_tags: array (nullable = true)\n",
      " |    |-- element: string (containsNull = true)\n",
      " |-- num_tags: integer (nullable = true)\n",
      " |-- desc_length: integer (nullable = true)\n",
      " |-- title_length: integer (nullable = true)\n",
      " |-- category: string (nullable = true)\n",
      " |-- tag_score: integer (nullable = true)\n",
      " |-- publish_day_classVec: vector (nullable = true)\n",
      " |-- category_classVec: vector (nullable = true)"
     ]
    }
   ],
   "source": [
    "from pyspark.ml.feature import OneHotEncoder, StringIndexer, VectorAssembler\n",
    "from pyspark.ml import Pipeline\n",
    "\n",
    "\n",
    "def ohe_categoricals(v_df,categoricalColumns):\n",
    "    stages = []\n",
    "    for categoricalCol in categoricalColumns:\n",
    "        stringIndexer = StringIndexer(inputCol = categoricalCol, outputCol = categoricalCol + \"_catIndex\")\n",
    "        encoder = OneHotEncoder(inputCol= categoricalCol+\"_catIndex\", outputCol= categoricalCol + \"_classVec\")\n",
    "        stages += [stringIndexer, encoder]\n",
    "    print(stages)\n",
    "    pipeline = Pipeline(stages = stages)\n",
    "    pipelineModel = pipeline.fit(v_df)\n",
    "    v_df = pipelineModel.transform(v_df)\n",
    "    for col in v_df.columns:\n",
    "        if \"_catIndex\" in col:\n",
    "            v_df = v_df.drop(col)\n",
    "    return v_df\n",
    "\n",
    "data = ohe_categoricals(data,[\"publish_day\",\"category\"])\n",
    "data.printSchema()"
   ]
  },
  {
   "cell_type": "code",
   "execution_count": 44,
   "metadata": {},
   "outputs": [
    {
     "data": {
      "image/png": "[encoded data removed]",
      "text/plain": [
       "<Figure size 1440x720 with 1 Axes>"
      ]
     },
     "metadata": {
      "needs_background": "light"
     },
     "output_type": "display_data"
    }
   ],
   "source": [
    "# %%local\n",
    "# %matplotlib inline\n",
    "# import matplotlib\n",
    "# import matplotlib.pyplot as plt\n",
    "# import seaborn as sns\n",
    "# plt.figure(figsize=(20,10))\n",
    "# k = sorted(count_based[\"tag_score\"].tolist())\n",
    "# plt.plot(k)\n",
    "# # ax.tick_params(axis=\"x\", labelsize=25)\n",
    "# # ax.tick_params(axis=\"y\", labelsize=25)\n",
    "# plt.title(\"Tag weight\",fontsize=30)\n",
    "# plt.xlabel(\"Tags\",fontsize=25)\n",
    "# plt.ylabel(\"Tag weight\",fontsize=25)\n",
    "# plt.savefig(\"Tag weight.png\")"
   ]
  },
  {
   "cell_type": "code",
   "execution_count": 56,
   "metadata": {},
   "outputs": [
    {
     "data": {
      "application/vnd.jupyter.widget-view+json": {
       "model_id": "38a781ace54147c38e4b87d5b4407729",
       "version_major": 2,
       "version_minor": 0
      },
      "text/plain": [
       "VBox()"
      ]
     },
     "metadata": {},
     "output_type": "display_data"
    },
    {
     "data": {
      "application/vnd.jupyter.widget-view+json": {
       "model_id": "",
       "version_major": 2,
       "version_minor": 0
      },
      "text/plain": [
       "FloatProgress(value=0.0, bar_style='info', description='Progress:', layout=Layout(height='25px', width='50%'),…"
      ]
     },
     "metadata": {},
     "output_type": "display_data"
    }
   ],
   "source": [
    "# %%local\n",
    "# %matplotlib inline\n",
    "# import matplotlib\n",
    "# import matplotlib.pyplot as plt\n",
    "# import seaborn as sns\n",
    "# plt.figure(figsize=(20,10))\n",
    "# ax = sns.countplot(x=\"comment_count\",data=count_based)\n",
    "# ax.tick_params(axis=\"x\", labelsize=25)\n",
    "# ax.tick_params(axis=\"y\", labelsize=25)\n",
    "# plt.title(\"Distribution of Comment count\",fontsize=30)\n",
    "# plt.xlabel(\"Days of week\",fontsize=25)\n",
    "# plt.ylabel(\"Number of published videos\",fontsize=25)\n",
    "# plt.savefig(\"Comment_count.png\")"
   ]
  },
  {
   "cell_type": "code",
   "execution_count": 57,
   "metadata": {},
   "outputs": [
    {
     "data": {
      "application/vnd.jupyter.widget-view+json": {
       "model_id": "933debbe083f48299cccf9053b3ed1b9",
       "version_major": 2,
       "version_minor": 0
      },
      "text/plain": [
       "VBox()"
      ]
     },
     "metadata": {},
     "output_type": "display_data"
    },
    {
     "data": {
      "application/vnd.jupyter.widget-view+json": {
       "model_id": "",
       "version_major": 2,
       "version_minor": 0
      },
      "text/plain": [
       "FloatProgress(value=0.0, bar_style='info', description='Progress:', layout=Layout(height='25px', width='50%'),…"
      ]
     },
     "metadata": {},
     "output_type": "display_data"
    }
   ],
   "source": [
    "# %%local\n",
    "# %matplotlib inline\n",
    "# import matplotlib\n",
    "# import matplotlib.pyplot as plt\n",
    "# import seaborn as sns\n",
    "# plt.figure(figsize=(20,10))\n",
    "# ax = sns.countplot(x=\"publish_day\",data=categorical)\n",
    "# ax.tick_params(axis=\"x\", labelsize=25)\n",
    "# ax.tick_params(axis=\"y\", labelsize=25)\n",
    "# plt.title(\"Days in which videos are published\",fontsize=30)\n",
    "# plt.xlabel(\"Days of week\",fontsize=25)\n",
    "# plt.ylabel(\"Number of published videos\",fontsize=25)\n",
    "# plt.savefig(\"Publish_days.png\")"
   ]
  },
  {
   "cell_type": "code",
   "execution_count": 58,
   "metadata": {},
   "outputs": [
    {
     "data": {
      "application/vnd.jupyter.widget-view+json": {
       "model_id": "cc2efdcad2db4baba0fc0259d0119179",
       "version_major": 2,
       "version_minor": 0
      },
      "text/plain": [
       "VBox()"
      ]
     },
     "metadata": {},
     "output_type": "display_data"
    },
    {
     "data": {
      "application/vnd.jupyter.widget-view+json": {
       "model_id": "",
       "version_major": 2,
       "version_minor": 0
      },
      "text/plain": [
       "FloatProgress(value=0.0, bar_style='info', description='Progress:', layout=Layout(height='25px', width='50%'),…"
      ]
     },
     "metadata": {},
     "output_type": "display_data"
    }
   ],
   "source": [
    "# %%local\n",
    "# %matplotlib inline\n",
    "# import matplotlib\n",
    "# import matplotlib.pyplot as plt\n",
    "# import seaborn as sns\n",
    "# plt.figure(figsize=(20,10))\n",
    "# print(categorical.columns)\n",
    "# ax = sns.countplot(x=\"category\",data=categorical)\n",
    "# ax.tick_params(axis=\"x\", rotation=90,labelsize=15)\n",
    "# ax.tick_params(axis=\"y\", labelsize=15)\n",
    "# plt.title(\"Categories of videos\",fontsize=30)\n",
    "# plt.xlabel(\"Category name\",fontsize=25)\n",
    "# plt.ylabel(\"Number of videos\",fontsize=25)\n",
    "# plt.savefig(\"Category_count.png\")"
   ]
  },
  {
   "cell_type": "code",
   "execution_count": 59,
   "metadata": {},
   "outputs": [
    {
     "data": {
      "application/vnd.jupyter.widget-view+json": {
       "model_id": "ff13e92db47d4fb39949d6bedb6a6647",
       "version_major": 2,
       "version_minor": 0
      },
      "text/plain": [
       "VBox()"
      ]
     },
     "metadata": {},
     "output_type": "display_data"
    },
    {
     "data": {
      "application/vnd.jupyter.widget-view+json": {
       "model_id": "",
       "version_major": 2,
       "version_minor": 0
      },
      "text/plain": [
       "FloatProgress(value=0.0, bar_style='info', description='Progress:', layout=Layout(height='25px', width='50%'),…"
      ]
     },
     "metadata": {},
     "output_type": "display_data"
    }
   ],
   "source": [
    "# %%local\n",
    "# %matplotlib inline\n",
    "# import matplotlib\n",
    "# import matplotlib.pyplot as plt\n",
    "# plt.figure(figsize=(20,10))\n",
    "# k = sorted(liked[\"like_ratio\"].tolist())\n",
    "# plt.plot(k)\n",
    "# # ax[0].tick_params(axis=\"x\", labelsize=15)\n",
    "# # ax[0].tick_params(axis=\"y\", labelsize=15)\n",
    "# plt.axhline(y=0.05,color=\"r\",linestyle=\"--\")\n",
    "# plt.title(\"Generate binary labels by thresholding like/views ratio\",fontsize=30)\n",
    "# plt.xlabel(\"Video count\",fontsize=20)\n",
    "# plt.ylabel(\"Like/Views\",fontsize=20)\n",
    "# plt.savefig(\"like_ratio.png\")"
   ]
  },
  {
   "cell_type": "code",
   "execution_count": 60,
   "metadata": {},
   "outputs": [
    {
     "data": {
      "application/vnd.jupyter.widget-view+json": {
       "model_id": "e6325061a5264e0492964ff2b7580dc3",
       "version_major": 2,
       "version_minor": 0
      },
      "text/plain": [
       "VBox()"
      ]
     },
     "metadata": {},
     "output_type": "display_data"
    },
    {
     "data": {
      "application/vnd.jupyter.widget-view+json": {
       "model_id": "",
       "version_major": 2,
       "version_minor": 0
      },
      "text/plain": [
       "FloatProgress(value=0.0, bar_style='info', description='Progress:', layout=Layout(height='25px', width='50%'),…"
      ]
     },
     "metadata": {},
     "output_type": "display_data"
    }
   ],
   "source": [
    "# %%local\n",
    "# %matplotlib inline\n",
    "# import matplotlib\n",
    "# import matplotlib.pyplot as plt\n",
    "# plt.figure(figsize=(20,10))\n",
    "# print(type(liked))\n",
    "# k = sorted(liked[\"dislike_ratio\"].tolist())\n",
    "# plt.plot(k)\n",
    "# plt.title(\"Generate binary labels by thresholding dislike/views ratio\",fontsize=30)\n",
    "# plt.axhline(y=0.01,color=\"r\",linestyle=\"--\")\n",
    "# plt.xlabel(\"Video count\",fontsize=20)\n",
    "# plt.ylabel(\"Dislikes/Views\",fontsize=20)\n",
    "# plt.savefig(\"dislike_ratio.png\")"
   ]
  },
  {
   "cell_type": "code",
   "execution_count": 19,
   "metadata": {},
   "outputs": [
    {
     "data": {
      "application/vnd.jupyter.widget-view+json": {
       "model_id": "de6489f7ffd640db86293866c02d56a0",
       "version_major": 2,
       "version_minor": 0
      },
      "text/plain": [
       "VBox()"
      ]
     },
     "metadata": {},
     "output_type": "display_data"
    },
    {
     "data": {
      "application/vnd.jupyter.widget-view+json": {
       "model_id": "",
       "version_major": 2,
       "version_minor": 0
      },
      "text/plain": [
       "FloatProgress(value=0.0, bar_style='info', description='Progress:', layout=Layout(height='25px', width='50%'),…"
      ]
     },
     "metadata": {},
     "output_type": "display_data"
    }
   ],
   "source": [
    "# yet to ascertain\n",
    "def get_topN_freq(data, topN):\n",
    "    freq_dist = nltk.FreqDist(data)\n",
    "    topN_data = freq_dist.most_common(topN)\n",
    "    return topN_data\n",
    "\n",
    "def get_freq_dist_tags(df, topN):\n",
    "    topN_tags = get_topN_freq(df.select(\"cleaned_tags\").collect(),topN)\n",
    "    df_topN_tags = spark.createDataFrame(topN_tags,schema = ['Word','Frequency'])\n",
    "    return df_topN_tags"
   ]
  },
  {
   "cell_type": "code",
   "execution_count": 6,
   "metadata": {},
   "outputs": [
    {
     "data": {
      "application/vnd.jupyter.widget-view+json": {
       "model_id": "b0304a881dc84ef0864744f88a8e155b",
       "version_major": 2,
       "version_minor": 0
      },
      "text/plain": [
       "VBox()"
      ]
     },
     "metadata": {},
     "output_type": "display_data"
    },
    {
     "data": {
      "application/vnd.jupyter.widget-view+json": {
       "model_id": "",
       "version_major": 2,
       "version_minor": 0
      },
      "text/plain": [
       "FloatProgress(value=0.0, bar_style='info', description='Progress:', layout=Layout(height='25px', width='50%'),…"
      ]
     },
     "metadata": {},
     "output_type": "display_data"
    },
    {
     "name": "stdout",
     "output_type": "stream",
     "text": [
      "+-----------------+--------------------+-------------+------+-------+--------+-----------+------------+--------+--------------------+--------------------+-----------+--------------+---------+\n",
      "|category_classVec|publish_day_classVec|comment_count| likes|  views|dislikes|desc_length|title_length|num_tags|          like_ratio|       dislike_ratio|like_labels|dislike_labels|tag_score|\n",
      "+-----------------+--------------------+-------------+------+-------+--------+-----------+------------+--------+--------------------+--------------------+-----------+--------------+---------+\n",
      "|   (16,[5],[1.0])|       (7,[5],[1.0])|        15954| 57527| 748374|    2966|       1410|          34|       1| 0.07686931935101968|0.003963259012205128|          1|             0|        5|\n",
      "|   (16,[0],[1.0])|       (7,[5],[1.0])|        12703| 97185|2418783|    6146|        630|          62|       4| 0.04017929677858659|0.002540947244957485|          0|             0|      -33|\n",
      "|   (16,[4],[1.0])|       (7,[6],[1.0])|         8181|146033|3191434|    5339|       1177|          53|      23|0.045757800411977814|0.001672915686177...|          0|             0|     1393|\n",
      "|   (16,[0],[1.0])|       (7,[5],[1.0])|         2146| 10172| 343168|     666|       1403|          32|      27|0.029641458411040655| 0.00194074039537486|          0|             0|     2866|\n",
      "|   (16,[0],[1.0])|       (7,[6],[1.0])|        17518|132235|2095731|    1989|        636|          24|      14| 0.06309731544745008|9.490721853138594E-4|          1|             0|     2216|\n",
      "+-----------------+--------------------+-------------+------+-------+--------+-----------+------------+--------+--------------------+--------------------+-----------+--------------+---------+\n",
      "only showing top 5 rows"
     ]
    }
   ],
   "source": [
    "df = data[\"category_classVec\",\"publish_day_classVec\",\"comment_count\",\"likes\",\"views\",\"dislikes\",\"desc_length\",\"title_length\",\"num_tags\",\"like_ratio\",\"dislike_ratio\",\"like_labels\",\"dislike_labels\",\"tag_score\"]\n",
    "df.show(5)\n",
    "\n",
    "ml_result_store = {}"
   ]
  },
  {
   "cell_type": "code",
   "execution_count": 92,
   "metadata": {},
   "outputs": [
    {
     "data": {
      "application/vnd.jupyter.widget-view+json": {
       "model_id": "2e26b85da67547e0825654f2552650f5",
       "version_major": 2,
       "version_minor": 0
      },
      "text/plain": [
       "VBox()"
      ]
     },
     "metadata": {},
     "output_type": "display_data"
    },
    {
     "data": {
      "application/vnd.jupyter.widget-view+json": {
       "model_id": "",
       "version_major": 2,
       "version_minor": 0
      },
      "text/plain": [
       "FloatProgress(value=0.0, bar_style='info', description='Progress:', layout=Layout(height='25px', width='50%'),…"
      ]
     },
     "metadata": {},
     "output_type": "display_data"
    },
    {
     "name": "stdout",
     "output_type": "stream",
     "text": [
      "[('like_ratio', 1.0), ('desc_length', 0.24338432726993875), ('likes', 0.21599549502100987), ('num_tags', 0.20406684502608025), ('comment_count', 0.15560129746576667), ('tag_score', 0.14724747604931598), ('title_length', 0.11889336985227796), ('dislike_ratio', 0.04301748426956477), ('views', 0.022990651166889028), ('dislikes', 0.021027676570961874)] [('dislike_ratio', 1.0), ('dislikes', 0.267221821536941), ('comment_count', 0.13813815647024763), ('title_length', 0.09466936475148852), ('num_tags', 0.06908403901783039), ('desc_length', 0.04556193259098116), ('like_ratio', 0.04301748426956477), ('likes', 0.028527630084238892), ('views', 0.01655073420673835), ('tag_score', -0.008746491572331665)]"
     ]
    }
   ],
   "source": [
    "import six\n",
    "orderedby_corr_likes = []\n",
    "orderedby_corr_dislike = []\n",
    "correlation_subset = df[\"likes\",\"views\",\"dislikes\",\"desc_length\",\"title_length\",\"num_tags\",\"like_ratio\",\"dislike_ratio\",\"comment_count\",\"tag_score\"]\n",
    "for i in correlation_subset.columns:\n",
    "    if not( isinstance(correlation_subset.select(i).take(1)[0][0], six.string_types)):\n",
    "        corr = correlation_subset.stat.corr('like_ratio',i)\n",
    "        corr2 = correlation_subset.stat.corr('dislike_ratio',i)\n",
    "        orderedby_corr_likes.append((i,corr))\n",
    "        orderedby_corr_dislike.append((i,corr2))\n",
    "\n",
    "orderedby_corr_likes = sorted(orderedby_corr_likes,key=lambda x:x[1] ,reverse=True)\n",
    "orderedby_corr_dislike = sorted(orderedby_corr_dislike,key=lambda x:x[1] , reverse=True)\n",
    "print(orderedby_corr_likes,orderedby_corr_dislike)"
   ]
  },
  {
   "cell_type": "code",
   "execution_count": 7,
   "metadata": {},
   "outputs": [
    {
     "data": {
      "application/vnd.jupyter.widget-view+json": {
       "model_id": "7910d51858bd4ee4b96f2cf032b093de",
       "version_major": 2,
       "version_minor": 0
      },
      "text/plain": [
       "VBox()"
      ]
     },
     "metadata": {},
     "output_type": "display_data"
    },
    {
     "data": {
      "application/vnd.jupyter.widget-view+json": {
       "model_id": "",
       "version_major": 2,
       "version_minor": 0
      },
      "text/plain": [
       "FloatProgress(value=0.0, bar_style='info', description='Progress:', layout=Layout(height='25px', width='50%'),…"
      ]
     },
     "metadata": {},
     "output_type": "display_data"
    },
    {
     "name": "stdout",
     "output_type": "stream",
     "text": [
      "----------------------------------------------------------------------->\n",
      "\n",
      "['category_classVec']   ->  like_ratio\n",
      "RMSE: 0.022919\n",
      "R Squared (R2) on train data 0.324584\n",
      "R Squared (R2) on test data = 0.320351 Time take  6.296170949935913\n",
      "----------------------------------------------------------------------->\n",
      "\n",
      "['category_classVec', 'publish_day_classVec']   ->  like_ratio\n",
      "RMSE: 0.022713\n",
      "R Squared (R2) on train data 0.327558\n",
      "R Squared (R2) on test data = 0.317219 Time take  5.4474036693573\n",
      "----------------------------------------------------------------------->\n",
      "\n",
      "['category_classVec', 'publish_day_classVec', 'comment_count']   ->  like_ratio\n",
      "RMSE: 0.022722\n",
      "R Squared (R2) on train data 0.333957\n",
      "R Squared (R2) on test data = 0.328358 Time take  5.443502902984619\n",
      "----------------------------------------------------------------------->\n",
      "\n",
      "['category_classVec', 'publish_day_classVec', 'comment_count', 'views']   ->  like_ratio\n",
      "RMSE: 0.022153\n",
      "R Squared (R2) on train data 0.357815\n",
      "R Squared (R2) on test data = 0.356285 Time take  4.256129264831543\n",
      "----------------------------------------------------------------------->\n",
      "\n",
      "['category_classVec', 'publish_day_classVec', 'comment_count', 'views', 'dislikes']   ->  like_ratio\n",
      "RMSE: 0.022042\n",
      "R Squared (R2) on train data 0.363368\n",
      "R Squared (R2) on test data = 0.369813 Time take  4.188384294509888\n",
      "----------------------------------------------------------------------->\n",
      "\n",
      "['category_classVec', 'publish_day_classVec', 'comment_count', 'views', 'dislikes', 'desc_length']   ->  like_ratio\n",
      "RMSE: 0.022068\n",
      "R Squared (R2) on train data 0.366841\n",
      "R Squared (R2) on test data = 0.370919 Time take  4.761189937591553\n",
      "----------------------------------------------------------------------->\n",
      "\n",
      "['category_classVec', 'publish_day_classVec', 'comment_count', 'views', 'dislikes', 'desc_length', 'title_length']   ->  like_ratio\n",
      "RMSE: 0.021580\n",
      "R Squared (R2) on train data 0.386072\n",
      "R Squared (R2) on test data = 0.385395 Time take  5.0366857051849365\n",
      "----------------------------------------------------------------------->\n",
      "\n",
      "['category_classVec', 'publish_day_classVec', 'comment_count', 'views', 'dislikes', 'desc_length', 'title_length', 'num_tags']   ->  like_ratio\n",
      "RMSE: 0.021522\n",
      "R Squared (R2) on train data 0.392704\n",
      "R Squared (R2) on test data = 0.366093 Time take  9.694073677062988\n",
      "----------------------------------------------------------------------->\n",
      "\n",
      "['category_classVec', 'publish_day_classVec', 'comment_count', 'views', 'dislikes', 'desc_length', 'title_length', 'num_tags', 'dislike_ratio']   ->  like_ratio\n",
      "RMSE: 0.021588\n",
      "R Squared (R2) on train data 0.387968\n",
      "R Squared (R2) on test data = 0.380082 Time take  8.984099864959717\n",
      "----------------------------------------------------------------------->\n",
      "\n",
      "['category_classVec', 'publish_day_classVec', 'comment_count', 'views', 'dislikes', 'desc_length', 'title_length', 'num_tags', 'dislike_ratio', 'tag_score']   ->  like_ratio\n",
      "RMSE: 0.021957\n",
      "R Squared (R2) on train data 0.392316\n",
      "R Squared (R2) on test data = 0.374985 Time take  14.726585865020752"
     ]
    }
   ],
   "source": [
    "# Linear regression setting\n",
    "regr = []\n",
    "def regression_run(v_df, in_feats,label):\n",
    "    \n",
    "    vectorAssembler = VectorAssembler(inputCols = in_feats, outputCol = 'features')\n",
    "    v_df = vectorAssembler.transform(v_df)\n",
    "    v_df = v_df.select(['features', label])\n",
    "\n",
    "    splits = v_df.randomSplit([0.7, 0.3])\n",
    "    train_df = splits[0]\n",
    "    test_df = splits[1]\n",
    "    st = time.time()\n",
    "    lr = LinearRegression(featuresCol = 'features', labelCol=label ) #, maxIter=10, regParam=0.3, elasticNetParam=0.8)\n",
    "    lr_model = lr.fit(train_df)\n",
    "    en = time.time()\n",
    "    timetaken = en-st\n",
    "#     print(\"Coefficients: \" + str(lr_model.coefficients))\n",
    "#     print(\"Intercept: \" + str(lr_model.intercept))\n",
    "\n",
    "    trainingSummary = lr_model.summary\n",
    "    print(\"RMSE: %f\" % trainingSummary.rootMeanSquaredError)\n",
    "    print(\"R Squared (R2) on train data %f\" % trainingSummary.r2 )\n",
    "    \n",
    "    \n",
    "    lr_predictions = lr_model.transform(test_df)\n",
    "    lr_evaluator = RegressionEvaluator(predictionCol=\"prediction\",labelCol=\"like_ratio\",metricName=\"r2\")\n",
    "    error = lr_evaluator.evaluate(lr_predictions)\n",
    "    print(\"R Squared (R2) on test data = %g\" % error + \" Time take \",timetaken)\n",
    "    regr.append([error,timetaken])\n",
    "    \n",
    "\n",
    "in_feat = []\n",
    "for col in df.columns:\n",
    "    if (col not in [\"like_ratio\",\"likes\",\"like_labels\",\"dislike_labels\"]):\n",
    "        in_feat.append(col)\n",
    "        print(\"----------------------------------------------------------------------->\\n\")\n",
    "        print(in_feat,\"  ->  like_ratio\",)\n",
    "        regression_run(df,in_feat,\"like_ratio\")\n",
    "\n",
    "ml_result_store[\"LR\"] = regr\n"
   ]
  },
  {
   "cell_type": "code",
   "execution_count": 36,
   "metadata": {},
   "outputs": [
    {
     "data": {
      "application/vnd.jupyter.widget-view+json": {
       "model_id": "df21adeca2af48aa960d891b12908fa6",
       "version_major": 2,
       "version_minor": 0
      },
      "text/plain": [
       "VBox()"
      ]
     },
     "metadata": {},
     "output_type": "display_data"
    },
    {
     "data": {
      "application/vnd.jupyter.widget-view+json": {
       "model_id": "fae0878b07c44bef9304acc9b73b4876",
       "version_major": 2,
       "version_minor": 0
      },
      "text/plain": [
       "FloatProgress(value=0.0, bar_style='info', description='Progress:', layout=Layout(height='25px', width='50%'),…"
      ]
     },
     "metadata": {},
     "output_type": "display_data"
    },
    {
     "ename": "KeyboardInterrupt",
     "evalue": "",
     "output_type": "error",
     "traceback": [
      "\u001b[0;31m---------------------------------------------------------------------------\u001b[0m",
      "\u001b[0;31mKeyboardInterrupt\u001b[0m                         Traceback (most recent call last)",
      "\u001b[0;32m<ipython-input-36-63c37a55c6bb>\u001b[0m in \u001b[0;36m<module>\u001b[0;34m\u001b[0m\n\u001b[0;32m----> 1\u001b[0;31m \u001b[0mget_ipython\u001b[0m\u001b[0;34m(\u001b[0m\u001b[0;34m)\u001b[0m\u001b[0;34m.\u001b[0m\u001b[0mrun_cell_magic\u001b[0m\u001b[0;34m(\u001b[0m\u001b[0;34m'spark'\u001b[0m\u001b[0;34m,\u001b[0m \u001b[0;34m''\u001b[0m\u001b[0;34m,\u001b[0m \u001b[0;34m'from pyspark.mllib.classification import SVMWithSGD, SVMModel\\nfrom pyspark.mllib.regression import LabeledPoint\\nfrom pyspark.ml.linalg import Vectors\\nfrom pyspark.sql import Row\\n\\nfrom pyspark.ml.classification import LinearSVC\\n\\nsvmstore = []\\ndef svm_classification(v_df,in_feats,out):\\n    vectorAssembler = VectorAssembler(inputCols = in_feats, outputCol = \\'features\\')\\n    v_df = vectorAssembler.transform(v_df)\\n    v_df = v_df.withColumnRenamed(out,\\'label\\')\\n    v_df = v_df.select([\\'features\\', \\'label\\'])\\n    v_df = v_df.rdd.map(lambda row: Row(row[\\'label\\'], Vectors.dense(row[\\'features\\']))).toDF()\\n\\n    v_df = v_df.withColumnRenamed(\\'_1\\',\\'label\\')\\n    v_df = v_df.withColumnRenamed(\\'_2\\',\\'features\\')\\n    \\n    splits = v_df.randomSplit([0.7, 0.3])\\n    train_df = splits[0]\\n    test_df = splits[1]\\n\\n    st = time.time()\\n    svm = LinearSVC(maxIter=5, regParam=0.01)\\n    model = svm.fit(train_df)\\n    en = time.time()\\n    timetaken = en-st\\n    test_prediction = model.transform(test_df)\\n    evaluator = BinaryClassificationEvaluator()\\n    auroc = str(evaluator.evaluate(test_prediction, {evaluator.metricName: \"areaUnderROC\"}))\\n    print(\"Test Area Under ROC: \" + auroc + \" Time : \",timetaken)\\n    svmstore.append([auroc,timetaken])\\n\\n    \\nin_feat = []\\nfor col in df.columns:\\n    if (col not in [\"like_ratio\",\"like_labels\",\"likes\",\"dislike_labels\"]):\\n        in_feat.append(col)\\n        print(\"----------------------------------------------------------------------->\\\\n\")\\n        print(in_feat,\"  ->  like_labels\")\\n        svm_classification(df,in_feat,\"like_labels\")\\n    \\n\\nml_result_store[\"SVC\"] = svmstore\\n'\u001b[0m\u001b[0;34m)\u001b[0m\u001b[0;34m\u001b[0m\u001b[0;34m\u001b[0m\u001b[0m\n\u001b[0m",
      "\u001b[0;32m/opt/conda/lib/python3.7/site-packages/IPython/core/interactiveshell.py\u001b[0m in \u001b[0;36mrun_cell_magic\u001b[0;34m(self, magic_name, line, cell)\u001b[0m\n\u001b[1;32m   2360\u001b[0m             \u001b[0;32mwith\u001b[0m \u001b[0mself\u001b[0m\u001b[0;34m.\u001b[0m\u001b[0mbuiltin_trap\u001b[0m\u001b[0;34m:\u001b[0m\u001b[0;34m\u001b[0m\u001b[0;34m\u001b[0m\u001b[0m\n\u001b[1;32m   2361\u001b[0m                 \u001b[0margs\u001b[0m \u001b[0;34m=\u001b[0m \u001b[0;34m(\u001b[0m\u001b[0mmagic_arg_s\u001b[0m\u001b[0;34m,\u001b[0m \u001b[0mcell\u001b[0m\u001b[0;34m)\u001b[0m\u001b[0;34m\u001b[0m\u001b[0;34m\u001b[0m\u001b[0m\n\u001b[0;32m-> 2362\u001b[0;31m                 \u001b[0mresult\u001b[0m \u001b[0;34m=\u001b[0m \u001b[0mfn\u001b[0m\u001b[0;34m(\u001b[0m\u001b[0;34m*\u001b[0m\u001b[0margs\u001b[0m\u001b[0;34m,\u001b[0m \u001b[0;34m**\u001b[0m\u001b[0mkwargs\u001b[0m\u001b[0;34m)\u001b[0m\u001b[0;34m\u001b[0m\u001b[0;34m\u001b[0m\u001b[0m\n\u001b[0m\u001b[1;32m   2363\u001b[0m             \u001b[0;32mreturn\u001b[0m \u001b[0mresult\u001b[0m\u001b[0;34m\u001b[0m\u001b[0;34m\u001b[0m\u001b[0m\n\u001b[1;32m   2364\u001b[0m \u001b[0;34m\u001b[0m\u001b[0m\n",
      "\u001b[0;32m</opt/conda/lib/python3.7/site-packages/decorator.py:decorator-gen-124>\u001b[0m in \u001b[0;36mspark\u001b[0;34m(self, *args, **kwargs)\u001b[0m\n",
      "\u001b[0;32m/opt/conda/lib/python3.7/site-packages/IPython/core/magic.py\u001b[0m in \u001b[0;36m<lambda>\u001b[0;34m(f, *a, **k)\u001b[0m\n\u001b[1;32m    185\u001b[0m     \u001b[0;31m# but it's overkill for just that one bit of state.\u001b[0m\u001b[0;34m\u001b[0m\u001b[0;34m\u001b[0m\u001b[0;34m\u001b[0m\u001b[0m\n\u001b[1;32m    186\u001b[0m     \u001b[0;32mdef\u001b[0m \u001b[0mmagic_deco\u001b[0m\u001b[0;34m(\u001b[0m\u001b[0marg\u001b[0m\u001b[0;34m)\u001b[0m\u001b[0;34m:\u001b[0m\u001b[0;34m\u001b[0m\u001b[0;34m\u001b[0m\u001b[0m\n\u001b[0;32m--> 187\u001b[0;31m         \u001b[0mcall\u001b[0m \u001b[0;34m=\u001b[0m \u001b[0;32mlambda\u001b[0m \u001b[0mf\u001b[0m\u001b[0;34m,\u001b[0m \u001b[0;34m*\u001b[0m\u001b[0ma\u001b[0m\u001b[0;34m,\u001b[0m \u001b[0;34m**\u001b[0m\u001b[0mk\u001b[0m\u001b[0;34m:\u001b[0m \u001b[0mf\u001b[0m\u001b[0;34m(\u001b[0m\u001b[0;34m*\u001b[0m\u001b[0ma\u001b[0m\u001b[0;34m,\u001b[0m \u001b[0;34m**\u001b[0m\u001b[0mk\u001b[0m\u001b[0;34m)\u001b[0m\u001b[0;34m\u001b[0m\u001b[0;34m\u001b[0m\u001b[0m\n\u001b[0m\u001b[1;32m    188\u001b[0m \u001b[0;34m\u001b[0m\u001b[0m\n\u001b[1;32m    189\u001b[0m         \u001b[0;32mif\u001b[0m \u001b[0mcallable\u001b[0m\u001b[0;34m(\u001b[0m\u001b[0marg\u001b[0m\u001b[0;34m)\u001b[0m\u001b[0;34m:\u001b[0m\u001b[0;34m\u001b[0m\u001b[0;34m\u001b[0m\u001b[0m\n",
      "\u001b[0;32m/opt/conda/lib/python3.7/site-packages/sparkmagic/livyclientlib/exceptions.py\u001b[0m in \u001b[0;36mwrapped\u001b[0;34m(self, *args, **kwargs)\u001b[0m\n\u001b[1;32m     94\u001b[0m     \u001b[0;32mdef\u001b[0m \u001b[0mwrapped\u001b[0m\u001b[0;34m(\u001b[0m\u001b[0mself\u001b[0m\u001b[0;34m,\u001b[0m \u001b[0;34m*\u001b[0m\u001b[0margs\u001b[0m\u001b[0;34m,\u001b[0m \u001b[0;34m**\u001b[0m\u001b[0mkwargs\u001b[0m\u001b[0;34m)\u001b[0m\u001b[0;34m:\u001b[0m\u001b[0;34m\u001b[0m\u001b[0;34m\u001b[0m\u001b[0m\n\u001b[1;32m     95\u001b[0m         \u001b[0;32mtry\u001b[0m\u001b[0;34m:\u001b[0m\u001b[0;34m\u001b[0m\u001b[0;34m\u001b[0m\u001b[0m\n\u001b[0;32m---> 96\u001b[0;31m             \u001b[0mout\u001b[0m \u001b[0;34m=\u001b[0m \u001b[0mf\u001b[0m\u001b[0;34m(\u001b[0m\u001b[0mself\u001b[0m\u001b[0;34m,\u001b[0m \u001b[0;34m*\u001b[0m\u001b[0margs\u001b[0m\u001b[0;34m,\u001b[0m \u001b[0;34m**\u001b[0m\u001b[0mkwargs\u001b[0m\u001b[0;34m)\u001b[0m\u001b[0;34m\u001b[0m\u001b[0;34m\u001b[0m\u001b[0m\n\u001b[0m\u001b[1;32m     97\u001b[0m         \u001b[0;32mexcept\u001b[0m \u001b[0mException\u001b[0m \u001b[0;32mas\u001b[0m \u001b[0me\u001b[0m\u001b[0;34m:\u001b[0m\u001b[0;34m\u001b[0m\u001b[0;34m\u001b[0m\u001b[0m\n\u001b[1;32m     98\u001b[0m             \u001b[0mself\u001b[0m\u001b[0;34m.\u001b[0m\u001b[0mlogger\u001b[0m\u001b[0;34m.\u001b[0m\u001b[0merror\u001b[0m\u001b[0;34m(\u001b[0m\u001b[0;34mu\"ENCOUNTERED AN INTERNAL ERROR: {}\\n\\tTraceback:\\n{}\"\u001b[0m\u001b[0;34m.\u001b[0m\u001b[0mformat\u001b[0m\u001b[0;34m(\u001b[0m\u001b[0me\u001b[0m\u001b[0;34m,\u001b[0m \u001b[0mtraceback\u001b[0m\u001b[0;34m.\u001b[0m\u001b[0mformat_exc\u001b[0m\u001b[0;34m(\u001b[0m\u001b[0;34m)\u001b[0m\u001b[0;34m)\u001b[0m\u001b[0;34m)\u001b[0m\u001b[0;34m\u001b[0m\u001b[0;34m\u001b[0m\u001b[0m\n",
      "\u001b[0;32m/opt/conda/lib/python3.7/site-packages/sparkmagic/livyclientlib/exceptions.py\u001b[0m in \u001b[0;36mwrapped\u001b[0;34m(self, *args, **kwargs)\u001b[0m\n\u001b[1;32m     70\u001b[0m     \u001b[0;32mdef\u001b[0m \u001b[0mwrapped\u001b[0m\u001b[0;34m(\u001b[0m\u001b[0mself\u001b[0m\u001b[0;34m,\u001b[0m \u001b[0;34m*\u001b[0m\u001b[0margs\u001b[0m\u001b[0;34m,\u001b[0m \u001b[0;34m**\u001b[0m\u001b[0mkwargs\u001b[0m\u001b[0;34m)\u001b[0m\u001b[0;34m:\u001b[0m\u001b[0;34m\u001b[0m\u001b[0;34m\u001b[0m\u001b[0m\n\u001b[1;32m     71\u001b[0m         \u001b[0;32mtry\u001b[0m\u001b[0;34m:\u001b[0m\u001b[0;34m\u001b[0m\u001b[0;34m\u001b[0m\u001b[0m\n\u001b[0;32m---> 72\u001b[0;31m             \u001b[0mout\u001b[0m \u001b[0;34m=\u001b[0m \u001b[0mf\u001b[0m\u001b[0;34m(\u001b[0m\u001b[0mself\u001b[0m\u001b[0;34m,\u001b[0m \u001b[0;34m*\u001b[0m\u001b[0margs\u001b[0m\u001b[0;34m,\u001b[0m \u001b[0;34m**\u001b[0m\u001b[0mkwargs\u001b[0m\u001b[0;34m)\u001b[0m\u001b[0;34m\u001b[0m\u001b[0;34m\u001b[0m\u001b[0m\n\u001b[0m\u001b[1;32m     73\u001b[0m         \u001b[0;32mexcept\u001b[0m \u001b[0mexceptions_to_handle\u001b[0m \u001b[0;32mas\u001b[0m \u001b[0merr\u001b[0m\u001b[0;34m:\u001b[0m\u001b[0;34m\u001b[0m\u001b[0;34m\u001b[0m\u001b[0m\n\u001b[1;32m     74\u001b[0m             \u001b[0;31m# Do not log! as some messages may contain private client information\u001b[0m\u001b[0;34m\u001b[0m\u001b[0;34m\u001b[0m\u001b[0;34m\u001b[0m\u001b[0m\n",
      "\u001b[0;32m/opt/conda/lib/python3.7/site-packages/sparkmagic/kernels/kernelmagics.py\u001b[0m in \u001b[0;36mspark\u001b[0;34m(self, line, cell, local_ns)\u001b[0m\n\u001b[1;32m    236\u001b[0m             \u001b[0mcoerce\u001b[0m \u001b[0;34m=\u001b[0m \u001b[0mget_coerce_value\u001b[0m\u001b[0;34m(\u001b[0m\u001b[0margs\u001b[0m\u001b[0;34m.\u001b[0m\u001b[0mcoerce\u001b[0m\u001b[0;34m)\u001b[0m\u001b[0;34m\u001b[0m\u001b[0;34m\u001b[0m\u001b[0m\n\u001b[1;32m    237\u001b[0m \u001b[0;34m\u001b[0m\u001b[0m\n\u001b[0;32m--> 238\u001b[0;31m             \u001b[0mself\u001b[0m\u001b[0;34m.\u001b[0m\u001b[0mexecute_spark\u001b[0m\u001b[0;34m(\u001b[0m\u001b[0mcell\u001b[0m\u001b[0;34m,\u001b[0m \u001b[0margs\u001b[0m\u001b[0;34m.\u001b[0m\u001b[0moutput\u001b[0m\u001b[0;34m,\u001b[0m \u001b[0margs\u001b[0m\u001b[0;34m.\u001b[0m\u001b[0msamplemethod\u001b[0m\u001b[0;34m,\u001b[0m \u001b[0margs\u001b[0m\u001b[0;34m.\u001b[0m\u001b[0mmaxrows\u001b[0m\u001b[0;34m,\u001b[0m \u001b[0margs\u001b[0m\u001b[0;34m.\u001b[0m\u001b[0msamplefraction\u001b[0m\u001b[0;34m,\u001b[0m \u001b[0;32mNone\u001b[0m\u001b[0;34m,\u001b[0m \u001b[0mcoerce\u001b[0m\u001b[0;34m)\u001b[0m\u001b[0;34m\u001b[0m\u001b[0;34m\u001b[0m\u001b[0m\n\u001b[0m\u001b[1;32m    239\u001b[0m         \u001b[0;32melse\u001b[0m\u001b[0;34m:\u001b[0m\u001b[0;34m\u001b[0m\u001b[0;34m\u001b[0m\u001b[0m\n\u001b[1;32m    240\u001b[0m             \u001b[0;32mreturn\u001b[0m\u001b[0;34m\u001b[0m\u001b[0;34m\u001b[0m\u001b[0m\n",
      "\u001b[0;32m/opt/conda/lib/python3.7/site-packages/sparkmagic/magics/sparkmagicsbase.py\u001b[0m in \u001b[0;36mexecute_spark\u001b[0;34m(self, cell, output_var, samplemethod, maxrows, samplefraction, session_name, coerce)\u001b[0m\n\u001b[1;32m     42\u001b[0m \u001b[0;34m\u001b[0m\u001b[0m\n\u001b[1;32m     43\u001b[0m     \u001b[0;32mdef\u001b[0m \u001b[0mexecute_spark\u001b[0m\u001b[0;34m(\u001b[0m\u001b[0mself\u001b[0m\u001b[0;34m,\u001b[0m \u001b[0mcell\u001b[0m\u001b[0;34m,\u001b[0m \u001b[0moutput_var\u001b[0m\u001b[0;34m,\u001b[0m \u001b[0msamplemethod\u001b[0m\u001b[0;34m,\u001b[0m \u001b[0mmaxrows\u001b[0m\u001b[0;34m,\u001b[0m \u001b[0msamplefraction\u001b[0m\u001b[0;34m,\u001b[0m \u001b[0msession_name\u001b[0m\u001b[0;34m,\u001b[0m \u001b[0mcoerce\u001b[0m\u001b[0;34m)\u001b[0m\u001b[0;34m:\u001b[0m\u001b[0;34m\u001b[0m\u001b[0;34m\u001b[0m\u001b[0m\n\u001b[0;32m---> 44\u001b[0;31m         \u001b[0;34m(\u001b[0m\u001b[0msuccess\u001b[0m\u001b[0;34m,\u001b[0m \u001b[0mout\u001b[0m\u001b[0;34m)\u001b[0m \u001b[0;34m=\u001b[0m \u001b[0mself\u001b[0m\u001b[0;34m.\u001b[0m\u001b[0mspark_controller\u001b[0m\u001b[0;34m.\u001b[0m\u001b[0mrun_command\u001b[0m\u001b[0;34m(\u001b[0m\u001b[0mCommand\u001b[0m\u001b[0;34m(\u001b[0m\u001b[0mcell\u001b[0m\u001b[0;34m)\u001b[0m\u001b[0;34m,\u001b[0m \u001b[0msession_name\u001b[0m\u001b[0;34m)\u001b[0m\u001b[0;34m\u001b[0m\u001b[0;34m\u001b[0m\u001b[0m\n\u001b[0m\u001b[1;32m     45\u001b[0m         \u001b[0;32mif\u001b[0m \u001b[0;32mnot\u001b[0m \u001b[0msuccess\u001b[0m\u001b[0;34m:\u001b[0m\u001b[0;34m\u001b[0m\u001b[0;34m\u001b[0m\u001b[0m\n\u001b[1;32m     46\u001b[0m             \u001b[0mself\u001b[0m\u001b[0;34m.\u001b[0m\u001b[0mipython_display\u001b[0m\u001b[0;34m.\u001b[0m\u001b[0msend_error\u001b[0m\u001b[0;34m(\u001b[0m\u001b[0mout\u001b[0m\u001b[0;34m)\u001b[0m\u001b[0;34m\u001b[0m\u001b[0;34m\u001b[0m\u001b[0m\n",
      "\u001b[0;32m/opt/conda/lib/python3.7/site-packages/sparkmagic/livyclientlib/sparkcontroller.py\u001b[0m in \u001b[0;36mrun_command\u001b[0;34m(self, command, client_name)\u001b[0m\n\u001b[1;32m     42\u001b[0m     \u001b[0;32mdef\u001b[0m \u001b[0mrun_command\u001b[0m\u001b[0;34m(\u001b[0m\u001b[0mself\u001b[0m\u001b[0;34m,\u001b[0m \u001b[0mcommand\u001b[0m\u001b[0;34m,\u001b[0m \u001b[0mclient_name\u001b[0m\u001b[0;34m=\u001b[0m\u001b[0;32mNone\u001b[0m\u001b[0;34m)\u001b[0m\u001b[0;34m:\u001b[0m\u001b[0;34m\u001b[0m\u001b[0;34m\u001b[0m\u001b[0m\n\u001b[1;32m     43\u001b[0m         \u001b[0msession_to_use\u001b[0m \u001b[0;34m=\u001b[0m \u001b[0mself\u001b[0m\u001b[0;34m.\u001b[0m\u001b[0mget_session_by_name_or_default\u001b[0m\u001b[0;34m(\u001b[0m\u001b[0mclient_name\u001b[0m\u001b[0;34m)\u001b[0m\u001b[0;34m\u001b[0m\u001b[0;34m\u001b[0m\u001b[0m\n\u001b[0;32m---> 44\u001b[0;31m         \u001b[0;32mreturn\u001b[0m \u001b[0mcommand\u001b[0m\u001b[0;34m.\u001b[0m\u001b[0mexecute\u001b[0m\u001b[0;34m(\u001b[0m\u001b[0msession_to_use\u001b[0m\u001b[0;34m)\u001b[0m\u001b[0;34m\u001b[0m\u001b[0;34m\u001b[0m\u001b[0m\n\u001b[0m\u001b[1;32m     45\u001b[0m \u001b[0;34m\u001b[0m\u001b[0m\n\u001b[1;32m     46\u001b[0m     \u001b[0;32mdef\u001b[0m \u001b[0mrun_sqlquery\u001b[0m\u001b[0;34m(\u001b[0m\u001b[0mself\u001b[0m\u001b[0;34m,\u001b[0m \u001b[0msqlquery\u001b[0m\u001b[0;34m,\u001b[0m \u001b[0mclient_name\u001b[0m\u001b[0;34m=\u001b[0m\u001b[0;32mNone\u001b[0m\u001b[0;34m)\u001b[0m\u001b[0;34m:\u001b[0m\u001b[0;34m\u001b[0m\u001b[0;34m\u001b[0m\u001b[0m\n",
      "\u001b[0;32m/opt/conda/lib/python3.7/site-packages/sparkmagic/livyclientlib/command.py\u001b[0m in \u001b[0;36mexecute\u001b[0;34m(self, session)\u001b[0m\n\u001b[1;32m     41\u001b[0m             \u001b[0mresponse\u001b[0m \u001b[0;34m=\u001b[0m \u001b[0msession\u001b[0m\u001b[0;34m.\u001b[0m\u001b[0mhttp_client\u001b[0m\u001b[0;34m.\u001b[0m\u001b[0mpost_statement\u001b[0m\u001b[0;34m(\u001b[0m\u001b[0msession\u001b[0m\u001b[0;34m.\u001b[0m\u001b[0mid\u001b[0m\u001b[0;34m,\u001b[0m \u001b[0mdata\u001b[0m\u001b[0;34m)\u001b[0m\u001b[0;34m\u001b[0m\u001b[0;34m\u001b[0m\u001b[0m\n\u001b[1;32m     42\u001b[0m             \u001b[0mstatement_id\u001b[0m \u001b[0;34m=\u001b[0m \u001b[0mresponse\u001b[0m\u001b[0;34m[\u001b[0m\u001b[0;34mu'id'\u001b[0m\u001b[0;34m]\u001b[0m\u001b[0;34m\u001b[0m\u001b[0;34m\u001b[0m\u001b[0m\n\u001b[0;32m---> 43\u001b[0;31m             \u001b[0moutput\u001b[0m \u001b[0;34m=\u001b[0m \u001b[0mself\u001b[0m\u001b[0;34m.\u001b[0m\u001b[0m_get_statement_output\u001b[0m\u001b[0;34m(\u001b[0m\u001b[0msession\u001b[0m\u001b[0;34m,\u001b[0m \u001b[0mstatement_id\u001b[0m\u001b[0;34m)\u001b[0m\u001b[0;34m\u001b[0m\u001b[0;34m\u001b[0m\u001b[0m\n\u001b[0m\u001b[1;32m     44\u001b[0m         \u001b[0;32mexcept\u001b[0m \u001b[0mException\u001b[0m \u001b[0;32mas\u001b[0m \u001b[0me\u001b[0m\u001b[0;34m:\u001b[0m\u001b[0;34m\u001b[0m\u001b[0;34m\u001b[0m\u001b[0m\n\u001b[1;32m     45\u001b[0m             self._spark_events.emit_statement_execution_end_event(session.guid, session.kind, session.id,\n",
      "\u001b[0;32m/opt/conda/lib/python3.7/site-packages/sparkmagic/livyclientlib/command.py\u001b[0m in \u001b[0;36m_get_statement_output\u001b[0;34m(self, session, statement_id)\u001b[0m\n\u001b[1;32m     74\u001b[0m             \u001b[0;32mif\u001b[0m \u001b[0mstatus\u001b[0m \u001b[0;32mnot\u001b[0m \u001b[0;32min\u001b[0m \u001b[0mFINAL_STATEMENT_STATUS\u001b[0m\u001b[0;34m:\u001b[0m\u001b[0;34m\u001b[0m\u001b[0;34m\u001b[0m\u001b[0m\n\u001b[1;32m     75\u001b[0m                 \u001b[0mprogress\u001b[0m\u001b[0;34m.\u001b[0m\u001b[0mvalue\u001b[0m \u001b[0;34m=\u001b[0m \u001b[0mstatement\u001b[0m\u001b[0;34m.\u001b[0m\u001b[0mget\u001b[0m\u001b[0;34m(\u001b[0m\u001b[0;34m'progress'\u001b[0m\u001b[0;34m,\u001b[0m \u001b[0;36m0.0\u001b[0m\u001b[0;34m)\u001b[0m\u001b[0;34m\u001b[0m\u001b[0;34m\u001b[0m\u001b[0m\n\u001b[0;32m---> 76\u001b[0;31m                 \u001b[0msession\u001b[0m\u001b[0;34m.\u001b[0m\u001b[0msleep\u001b[0m\u001b[0;34m(\u001b[0m\u001b[0mretries\u001b[0m\u001b[0;34m)\u001b[0m\u001b[0;34m\u001b[0m\u001b[0;34m\u001b[0m\u001b[0m\n\u001b[0m\u001b[1;32m     77\u001b[0m                 \u001b[0mretries\u001b[0m \u001b[0;34m+=\u001b[0m \u001b[0;36m1\u001b[0m\u001b[0;34m\u001b[0m\u001b[0;34m\u001b[0m\u001b[0m\n\u001b[1;32m     78\u001b[0m             \u001b[0;32melse\u001b[0m\u001b[0;34m:\u001b[0m\u001b[0;34m\u001b[0m\u001b[0;34m\u001b[0m\u001b[0m\n",
      "\u001b[0;32m/opt/conda/lib/python3.7/site-packages/sparkmagic/livyclientlib/livysession.py\u001b[0m in \u001b[0;36msleep\u001b[0;34m(self, retries)\u001b[0m\n\u001b[1;32m    280\u001b[0m \u001b[0;34m\u001b[0m\u001b[0m\n\u001b[1;32m    281\u001b[0m     \u001b[0;32mdef\u001b[0m \u001b[0msleep\u001b[0m\u001b[0;34m(\u001b[0m\u001b[0mself\u001b[0m\u001b[0;34m,\u001b[0m \u001b[0mretries\u001b[0m\u001b[0;34m)\u001b[0m\u001b[0;34m:\u001b[0m\u001b[0;34m\u001b[0m\u001b[0;34m\u001b[0m\u001b[0m\n\u001b[0;32m--> 282\u001b[0;31m         \u001b[0msleep\u001b[0m\u001b[0;34m(\u001b[0m\u001b[0mself\u001b[0m\u001b[0;34m.\u001b[0m\u001b[0m_policy\u001b[0m\u001b[0;34m.\u001b[0m\u001b[0mseconds_to_sleep\u001b[0m\u001b[0;34m(\u001b[0m\u001b[0mretries\u001b[0m\u001b[0;34m)\u001b[0m\u001b[0;34m)\u001b[0m\u001b[0;34m\u001b[0m\u001b[0;34m\u001b[0m\u001b[0m\n\u001b[0m\u001b[1;32m    283\u001b[0m \u001b[0;34m\u001b[0m\u001b[0m\n\u001b[1;32m    284\u001b[0m     \u001b[0;31m# This function will refresh the status and get the logs in a single call.\u001b[0m\u001b[0;34m\u001b[0m\u001b[0;34m\u001b[0m\u001b[0;34m\u001b[0m\u001b[0m\n",
      "\u001b[0;31mKeyboardInterrupt\u001b[0m: "
     ]
    }
   ],
   "source": [
    "from pyspark.mllib.classification import SVMWithSGD, SVMModel\n",
    "from pyspark.mllib.regression import LabeledPoint\n",
    "from pyspark.ml.linalg import Vectors\n",
    "from pyspark.sql import Row\n",
    "\n",
    "from pyspark.ml.classification import LinearSVC\n",
    "\n",
    "svmstore = []\n",
    "def svm_classification(v_df,in_feats,out):\n",
    "    vectorAssembler = VectorAssembler(inputCols = in_feats, outputCol = 'features')\n",
    "    v_df = vectorAssembler.transform(v_df)\n",
    "    v_df = v_df.withColumnRenamed(out,'label')\n",
    "    v_df = v_df.select(['features', 'label'])\n",
    "    v_df = v_df.rdd.map(lambda row: Row(row['label'], Vectors.dense(row['features']))).toDF()\n",
    "\n",
    "    v_df = v_df.withColumnRenamed('_1','label')\n",
    "    v_df = v_df.withColumnRenamed('_2','features')\n",
    "    \n",
    "    splits = v_df.randomSplit([0.7, 0.3])\n",
    "    train_df = splits[0]\n",
    "    test_df = splits[1]\n",
    "\n",
    "    st = time.time()\n",
    "    svm = LinearSVC(maxIter=5, regParam=0.01)\n",
    "    model = svm.fit(train_df)\n",
    "    en = time.time()\n",
    "    timetaken = en-st\n",
    "    test_prediction = model.transform(test_df)\n",
    "    evaluator = BinaryClassificationEvaluator()\n",
    "    auroc = str(evaluator.evaluate(test_prediction, {evaluator.metricName: \"areaUnderROC\"}))\n",
    "    print(\"Test Area Under ROC: \" + auroc + \" Time : \",timetaken)\n",
    "    svmstore.append([auroc,timetaken])\n",
    "\n",
    "    \n",
    "in_feat = []\n",
    "for col in df.columns:\n",
    "    if (col not in [\"like_ratio\",\"like_labels\",\"likes\",\"dislike_labels\"]):\n",
    "        in_feat.append(col)\n",
    "        print(\"----------------------------------------------------------------------->\\n\")\n",
    "        print(in_feat,\"  ->  like_labels\")\n",
    "        svm_classification(df,in_feat,\"like_labels\")\n",
    "    \n",
    "\n",
    "ml_result_store[\"SVC\"] = svmstore"
   ]
  },
  {
   "cell_type": "code",
   "execution_count": 8,
   "metadata": {},
   "outputs": [
    {
     "data": {
      "application/vnd.jupyter.widget-view+json": {
       "model_id": "c92d9a90449442f2b4564f7927548eb9",
       "version_major": 2,
       "version_minor": 0
      },
      "text/plain": [
       "VBox()"
      ]
     },
     "metadata": {},
     "output_type": "display_data"
    },
    {
     "data": {
      "application/vnd.jupyter.widget-view+json": {
       "model_id": "",
       "version_major": 2,
       "version_minor": 0
      },
      "text/plain": [
       "FloatProgress(value=0.0, bar_style='info', description='Progress:', layout=Layout(height='25px', width='50%'),…"
      ]
     },
     "metadata": {},
     "output_type": "display_data"
    },
    {
     "name": "stdout",
     "output_type": "stream",
     "text": [
      "----------------------------------------------------------------------->\n",
      "\n",
      "['category_classVec']   ->  like_labels\n",
      "Test Area Under ROC: 0.5 Time :  3.8585002422332764\n",
      "----------------------------------------------------------------------->\n",
      "\n",
      "['category_classVec', 'publish_day_classVec']   ->  like_labels\n",
      "Test Area Under ROC: 0.5 Time :  3.7086918354034424\n",
      "----------------------------------------------------------------------->\n",
      "\n",
      "['category_classVec', 'publish_day_classVec', 'comment_count']   ->  like_labels\n",
      "Test Area Under ROC: 0.7715354002758426 Time :  4.536733627319336\n",
      "----------------------------------------------------------------------->\n",
      "\n",
      "['category_classVec', 'publish_day_classVec', 'comment_count', 'views']   ->  like_labels\n",
      "Test Area Under ROC: 0.7927552805402882 Time :  4.484465837478638\n",
      "----------------------------------------------------------------------->\n",
      "\n",
      "['category_classVec', 'publish_day_classVec', 'comment_count', 'views', 'dislikes']   ->  like_labels\n",
      "Test Area Under ROC: 0.794729750068731 Time :  5.30807089805603\n",
      "----------------------------------------------------------------------->\n",
      "\n",
      "['category_classVec', 'publish_day_classVec', 'comment_count', 'views', 'dislikes', 'desc_length']   ->  like_labels\n",
      "Test Area Under ROC: 0.8140453205683763 Time :  4.9108946323394775\n",
      "----------------------------------------------------------------------->\n",
      "\n",
      "['category_classVec', 'publish_day_classVec', 'comment_count', 'views', 'dislikes', 'desc_length', 'title_length']   ->  like_labels\n",
      "Test Area Under ROC: 0.8023752775879675 Time :  5.143954753875732\n",
      "----------------------------------------------------------------------->\n",
      "\n",
      "['category_classVec', 'publish_day_classVec', 'comment_count', 'views', 'dislikes', 'desc_length', 'title_length', 'num_tags']   ->  like_labels\n",
      "Test Area Under ROC: 0.8443037798438497 Time :  10.699071645736694\n",
      "----------------------------------------------------------------------->\n",
      "\n",
      "['category_classVec', 'publish_day_classVec', 'comment_count', 'views', 'dislikes', 'desc_length', 'title_length', 'num_tags', 'dislike_ratio']   ->  like_labels\n",
      "Test Area Under ROC: 0.8301991361693793 Time :  10.050801515579224\n",
      "----------------------------------------------------------------------->\n",
      "\n",
      "['category_classVec', 'publish_day_classVec', 'comment_count', 'views', 'dislikes', 'desc_length', 'title_length', 'num_tags', 'dislike_ratio', 'tag_score']   ->  like_labels\n",
      "Test Area Under ROC: 0.8516400767690903 Time :  16.186994552612305"
     ]
    }
   ],
   "source": [
    "from pyspark.ml.classification import RandomForestClassifier\n",
    "\n",
    "\n",
    "rfstore = []\n",
    "def rf_classification(v_df,in_feat,out):\n",
    "    vectorAssembler = VectorAssembler(inputCols = in_feat, outputCol = 'features')\n",
    "    v_df = vectorAssembler.transform(v_df)\n",
    "    v_df = v_df.withColumnRenamed(out,'label')\n",
    "    v_df = v_df.select(['features', 'label'])\n",
    "\n",
    "    splits = v_df.randomSplit([0.7, 0.3])\n",
    "    train = splits[0]\n",
    "    test = splits[1]\n",
    "    st  = time.time()\n",
    "    rf = RandomForestClassifier(featuresCol = 'features', labelCol = 'label')\n",
    "    rfModel = rf.fit(train)\n",
    "    predictions = rfModel.transform(test)\n",
    "    # predictions.show(10)\n",
    "    en = time.time()\n",
    "    timetaken = en-st\n",
    "    # print(rfModel.featureImportances)\n",
    "    evaluator = BinaryClassificationEvaluator()\n",
    "    auroc = str(evaluator.evaluate(predictions, {evaluator.metricName: \"areaUnderROC\"}))\n",
    "    print(\"Test Area Under ROC: \" + auroc + \" Time : \",timetaken)\n",
    "    rfstore.append([auroc,timetaken])\n",
    "    \n",
    "in_feat = []\n",
    "for col in df.columns:\n",
    "    if (col not in [\"like_ratio\",\"like_labels\",\"dislike_labels\",\"likes\"]):\n",
    "        in_feat.append(col)\n",
    "        print(\"----------------------------------------------------------------------->\\n\")\n",
    "        print(in_feat,\"  ->  like_labels\")\n",
    "        rf_classification(df,in_feat,\"like_labels\")\n",
    "\n",
    "ml_result_store[\"RF\"] = rfstore"
   ]
  },
  {
   "cell_type": "code",
   "execution_count": 14,
   "metadata": {},
   "outputs": [
    {
     "data": {
      "application/vnd.jupyter.widget-view+json": {
       "model_id": "27523398c70f45bd9bdbad31c8484798",
       "version_major": 2,
       "version_minor": 0
      },
      "text/plain": [
       "VBox()"
      ]
     },
     "metadata": {},
     "output_type": "display_data"
    },
    {
     "data": {
      "application/vnd.jupyter.widget-view+json": {
       "model_id": "",
       "version_major": 2,
       "version_minor": 0
      },
      "text/plain": [
       "FloatProgress(value=0.0, bar_style='info', description='Progress:', layout=Layout(height='25px', width='50%'),…"
      ]
     },
     "metadata": {},
     "output_type": "display_data"
    },
    {
     "name": "stderr",
     "output_type": "stream",
     "text": [
      "Exception in thread cell_monitor-14:\n",
      "Traceback (most recent call last):\n",
      "  File \"/opt/conda/lib/python3.7/threading.py\", line 917, in _bootstrap_inner\n",
      "    self.run()\n",
      "  File \"/opt/conda/lib/python3.7/threading.py\", line 865, in run\n",
      "    self._target(*self._args, **self._kwargs)\n",
      "  File \"/opt/conda/lib/python3.7/site-packages/awseditorssparkmonitoringwidget-1.0-py3.7.egg/awseditorssparkmonitoringwidget/cellmonitor.py\", line 178, in cell_monitor\n",
      "    job_binned_stages[job_id][stage_id] = all_stages[stage_id]\n",
      "KeyError: 2158\n",
      "\n"
     ]
    },
    {
     "name": "stdout",
     "output_type": "stream",
     "text": [
      "----------------------------------------------------------------------->\n",
      "\n",
      "['category_classVec']   ->  like_labels\n",
      "Test Area Under ROC: 0.7429162482520805 Time :  8.514883756637573\n",
      "----------------------------------------------------------------------->\n",
      "\n",
      "['category_classVec', 'publish_day_classVec']   ->  like_labels\n",
      "Test Area Under ROC: 0.7500240516805626 Time :  9.792064666748047\n",
      "----------------------------------------------------------------------->\n",
      "\n",
      "['category_classVec', 'publish_day_classVec', 'comment_count']   ->  like_labels\n",
      "Test Area Under ROC: 0.7954600706916866 Time :  11.048828363418579\n",
      "----------------------------------------------------------------------->\n",
      "\n",
      "['category_classVec', 'publish_day_classVec', 'comment_count', 'views']   ->  like_labels\n",
      "Test Area Under ROC: 0.8936545400237058 Time :  8.755707263946533\n",
      "----------------------------------------------------------------------->\n",
      "\n",
      "['category_classVec', 'publish_day_classVec', 'comment_count', 'views', 'dislikes']   ->  like_labels\n",
      "Test Area Under ROC: 0.9022448047871777 Time :  9.488422155380249\n",
      "----------------------------------------------------------------------->\n",
      "\n",
      "['category_classVec', 'publish_day_classVec', 'comment_count', 'views', 'dislikes', 'desc_length']   ->  like_labels\n",
      "Test Area Under ROC: 0.8992951917974602 Time :  10.57824158668518\n",
      "----------------------------------------------------------------------->\n",
      "\n",
      "['category_classVec', 'publish_day_classVec', 'comment_count', 'views', 'dislikes', 'desc_length', 'title_length']   ->  like_labels\n",
      "Test Area Under ROC: 0.898158172127121 Time :  9.328609228134155\n",
      "----------------------------------------------------------------------->\n",
      "\n",
      "['category_classVec', 'publish_day_classVec', 'comment_count', 'views', 'dislikes', 'desc_length', 'title_length', 'num_tags']   ->  like_labels\n",
      "Test Area Under ROC: 0.89495493319248 Time :  12.367441177368164\n",
      "----------------------------------------------------------------------->\n",
      "\n",
      "['category_classVec', 'publish_day_classVec', 'comment_count', 'views', 'dislikes', 'desc_length', 'title_length', 'num_tags', 'dislike_ratio']   ->  like_labels\n",
      "Test Area Under ROC: 0.9074326250535015 Time :  11.848085641860962\n",
      "----------------------------------------------------------------------->\n",
      "\n",
      "['category_classVec', 'publish_day_classVec', 'comment_count', 'views', 'dislikes', 'desc_length', 'title_length', 'num_tags', 'dislike_ratio', 'tag_score']   ->  like_labels\n",
      "Test Area Under ROC: 0.9089910867697593 Time :  14.80158281326294"
     ]
    }
   ],
   "source": [
    "from pyspark.ml.classification import GBTClassifier\n",
    "import time\n",
    "\n",
    "gbtstore = []\n",
    "def gbt_classification(v_df,in_feat,out):\n",
    "    vectorAssembler = VectorAssembler(inputCols = in_feat, outputCol = 'features')\n",
    "    v_df = vectorAssembler.transform(v_df)\n",
    "    v_df = v_df.withColumnRenamed(out,'label')\n",
    "    v_df = v_df.select(['features', 'label'])\n",
    "\n",
    "    splits = v_df.randomSplit([0.7, 0.3])\n",
    "    train = splits[0]\n",
    "    test = splits[1]\n",
    "    st  = time.time()\n",
    "    gbt = GBTClassifier(maxIter=10)\n",
    "    gbtModel = gbt.fit(train)\n",
    "    en = time.time()\n",
    "    predictions = gbtModel.transform(test)\n",
    "    # predictions.show(10)\n",
    "    timetaken = en-st\n",
    "    evaluator = BinaryClassificationEvaluator()\n",
    "    auroc = str(evaluator.evaluate(predictions, {evaluator.metricName: \"areaUnderROC\"}))\n",
    "    print(\"Test Area Under ROC: \" + auroc + \" Time : \",timetaken)\n",
    "    gbtstore.append([auroc,timetaken])\n",
    "    # print(gbt.explainParams())\n",
    "    \n",
    "in_feat = []\n",
    "for col in df.columns:\n",
    "    if (col not in [\"like_ratio\",\"like_labels\",\"dislike_labels\",\"likes\"]):\n",
    "        in_feat.append(col)\n",
    "        print(\"----------------------------------------------------------------------->\\n\")\n",
    "        print(in_feat,\"  ->  like_labels\")\n",
    "        gbt_classification(df,in_feat,\"like_labels\")\n",
    "\n",
    "ml_result_store[\"GBT\"] = gbtstore"
   ]
  },
  {
   "cell_type": "code",
   "execution_count": 10,
   "metadata": {},
   "outputs": [
    {
     "data": {
      "application/vnd.jupyter.widget-view+json": {
       "model_id": "b9accef1c66a4230918bce81134745b6",
       "version_major": 2,
       "version_minor": 0
      },
      "text/plain": [
       "VBox()"
      ]
     },
     "metadata": {},
     "output_type": "display_data"
    },
    {
     "data": {
      "application/vnd.jupyter.widget-view+json": {
       "model_id": "",
       "version_major": 2,
       "version_minor": 0
      },
      "text/plain": [
       "FloatProgress(value=0.0, bar_style='info', description='Progress:', layout=Layout(height='25px', width='50%'),…"
      ]
     },
     "metadata": {},
     "output_type": "display_data"
    },
    {
     "name": "stderr",
     "output_type": "stream",
     "text": [
      "[Errno 13] Permission denied: 'LR.csv'\n",
      "Traceback (most recent call last):\n",
      "PermissionError: [Errno 13] Permission denied: 'LR.csv'\n",
      "\n"
     ]
    }
   ],
   "source": [
    "import csv\n",
    "\n",
    "for k in ml_result_store:\n",
    "    a = ml_result_store[k]\n",
    "    with open(k+\".csv\", \"w\", newline=\"\") as f:\n",
    "        writer = csv.writer(f)\n",
    "        writer.writerows(a)"
   ]
  },
  {
   "cell_type": "code",
   "execution_count": 15,
   "metadata": {},
   "outputs": [
    {
     "data": {
      "application/vnd.jupyter.widget-view+json": {
       "model_id": "9d6d858a80fd4f76a6bebc173110b44f",
       "version_major": 2,
       "version_minor": 0
      },
      "text/plain": [
       "VBox()"
      ]
     },
     "metadata": {},
     "output_type": "display_data"
    },
    {
     "data": {
      "application/vnd.jupyter.widget-view+json": {
       "model_id": "",
       "version_major": 2,
       "version_minor": 0
      },
      "text/plain": [
       "FloatProgress(value=0.0, bar_style='info', description='Progress:', layout=Layout(height='25px', width='50%'),…"
      ]
     },
     "metadata": {},
     "output_type": "display_data"
    },
    {
     "name": "stdout",
     "output_type": "stream",
     "text": [
      "[0.32035134596187365, 6.296170949935913]\n",
      "[0.31721851236581344, 5.4474036693573]\n",
      "[0.3283583112506414, 5.443502902984619]\n",
      "[0.35628485959503675, 4.256129264831543]\n",
      "[0.3698130649219842, 4.188384294509888]\n",
      "[0.3709192136630064, 4.761189937591553]\n",
      "[0.38539542100363944, 5.0366857051849365]\n",
      "[0.36609327735910924, 9.694073677062988]\n",
      "[0.38008173615058083, 8.984099864959717]\n",
      "[0.374985178969807, 14.726585865020752]\n",
      "------------\n",
      "['0.5', 3.8585002422332764]\n",
      "['0.5', 3.7086918354034424]\n",
      "['0.7715354002758426', 4.536733627319336]\n",
      "['0.7927552805402882', 4.484465837478638]\n",
      "['0.794729750068731', 5.30807089805603]\n",
      "['0.8140453205683763', 4.9108946323394775]\n",
      "['0.8023752775879675', 5.143954753875732]\n",
      "['0.8443037798438497', 10.699071645736694]\n",
      "['0.8301991361693793', 10.050801515579224]\n",
      "['0.8516400767690903', 16.186994552612305]\n",
      "------------\n",
      "['0.7429162482520805', 8.514883756637573]\n",
      "['0.7500240516805626', 9.792064666748047]\n",
      "['0.7954600706916866', 11.048828363418579]\n",
      "['0.8936545400237058', 8.755707263946533]\n",
      "['0.9022448047871777', 9.488422155380249]\n",
      "['0.8992951917974602', 10.57824158668518]\n",
      "['0.898158172127121', 9.328609228134155]\n",
      "['0.89495493319248', 12.367441177368164]\n",
      "['0.9074326250535015', 11.848085641860962]\n",
      "['0.9089910867697593', 14.80158281326294]\n",
      "------------"
     ]
    }
   ],
   "source": [
    "for k in ml_result_store:\n",
    "    for j in ml_result_store[k]:\n",
    "        print(j)\n",
    "    print(\"------------\")"
   ]
  },
  {
   "cell_type": "code",
   "execution_count": 41,
   "metadata": {},
   "outputs": [
    {
     "data": {
      "application/vnd.jupyter.widget-view+json": {
       "model_id": "7df436fae44d4369911a82b8584d8d8d",
       "version_major": 2,
       "version_minor": 0
      },
      "text/plain": [
       "VBox()"
      ]
     },
     "metadata": {},
     "output_type": "display_data"
    },
    {
     "data": {
      "application/vnd.jupyter.widget-view+json": {
       "model_id": "",
       "version_major": 2,
       "version_minor": 0
      },
      "text/plain": [
       "FloatProgress(value=0.0, bar_style='info', description='Progress:', layout=Layout(height='25px', width='50%'),…"
      ]
     },
     "metadata": {},
     "output_type": "display_data"
    },
    {
     "name": "stderr",
     "output_type": "stream",
     "text": [
      "Cannot convert type <class 'pyspark.ml.linalg.DenseMatrix'> into Vector\n",
      "Traceback (most recent call last):\n",
      "  File \"<stdin>\", line 11, in perform_chi\n",
      "  File \"/usr/lib/spark/python/lib/pyspark.zip/pyspark/mllib/stat/_statistics.py\", line 241, in chiSqTest\n",
      "    jmodel = callMLlibFunc(\"chiSqTest\", _convert_to_vector(observed), expected)\n",
      "  File \"/usr/lib/spark/python/lib/pyspark.zip/pyspark/mllib/linalg/__init__.py\", line 83, in _convert_to_vector\n",
      "    raise TypeError(\"Cannot convert type %s into Vector\" % type(l))\n",
      "TypeError: Cannot convert type <class 'pyspark.ml.linalg.DenseMatrix'> into Vector\n",
      "\n"
     ]
    }
   ],
   "source": [
    "#ca_data.select(\"channel_title\").distinct()\n",
    "from pyspark.ml.linalg import Vectors, DenseMatrix\n",
    "from pyspark.ml.stat import ChiSquareTest\n",
    "from pyspark.mllib.stat import Statistics\n",
    "from itertools import chain\n",
    "\n",
    "def perform_chi(col1,col2):\n",
    "    df = ca.get_df()[\"category_id\",\"publish_day_numeric\"]\n",
    "    print(type(df))\n",
    "    print(df.head(2))\n",
    "#     crosstab = ca.get_df().crosstab(col1,col2)\n",
    "#     print(crosstab.count(),len(crosstab.columns))\n",
    "#     print(crosstab.columns)\n",
    "    # chitest = Statistics.chiSqTest(DenseMatrix(numRows=crosstab.count(), numCols=len(crosstab.columns) - 1, values=list(chain(*zip(*crosstab.drop(crosstab.columns[0]).collect())))))\n",
    "    r = ChiSquareTest.test(df, \"category_id\",\"publish_day_numeric\").head()\n",
    "    \n",
    "\n",
    "perform_chi(\"category_id\",\"publish_day_numeric\")\n",
    "# df = ca.get_df()\n",
    "# df.select(\"category_id\").distinct().show()\n",
    "# print(Vectors.dense(0.5, 10.0))\n"
   ]
  },
  {
   "cell_type": "code",
   "execution_count": 32,
   "metadata": {},
   "outputs": [
    {
     "data": {
      "application/vnd.jupyter.widget-view+json": {
       "model_id": "265e86d35aef44a7a1fa05b1da4b2b73",
       "version_major": 2,
       "version_minor": 0
      },
      "text/plain": [
       "VBox()"
      ]
     },
     "metadata": {},
     "output_type": "display_data"
    },
    {
     "data": {
      "application/vnd.jupyter.widget-view+json": {
       "model_id": "",
       "version_major": 2,
       "version_minor": 0
      },
      "text/plain": [
       "FloatProgress(value=0.0, bar_style='info', description='Progress:', layout=Layout(height='25px', width='50%'),…"
      ]
     },
     "metadata": {},
     "output_type": "display_data"
    },
    {
     "name": "stdout",
     "output_type": "stream",
     "text": [
      "+-----------+\n",
      "|publish_day|\n",
      "+-----------+\n",
      "|        Sun|\n",
      "|       null|\n",
      "|        Mon|\n",
      "|        Thu|\n",
      "|        Sat|\n",
      "|        Wed|\n",
      "|        Fri|\n",
      "|        Tue|\n",
      "+-----------+"
     ]
    }
   ],
   "source": [
    "df.select(\"publish_day\").distinct().show()"
   ]
  },
  {
   "cell_type": "code",
   "execution_count": 5,
   "metadata": {},
   "outputs": [
    {
     "data": {
      "application/vnd.jupyter.widget-view+json": {
       "model_id": "a5032f12fe7843449fa3532dcbc3976c",
       "version_major": 2,
       "version_minor": 0
      },
      "text/plain": [
       "VBox()"
      ]
     },
     "metadata": {},
     "output_type": "display_data"
    },
    {
     "data": {
      "application/vnd.jupyter.widget-view+json": {
       "model_id": "",
       "version_major": 2,
       "version_minor": 0
      },
      "text/plain": [
       "FloatProgress(value=0.0, bar_style='info', description='Progress:', layout=Layout(height='25px', width='50%'),…"
      ]
     },
     "metadata": {},
     "output_type": "display_data"
    },
    {
     "name": "stdout",
     "output_type": "stream",
     "text": [
      "(5153, 260)"
     ]
    }
   ],
   "source": [
    "pdframe = ca_data.toPandas()\n",
    "kt = pd.crosstab(pdframe[\"channel_title\"],pdframe[\"trending_date\"])\n",
    "kt.shape"
   ]
  },
  {
   "cell_type": "code",
   "execution_count": 8,
   "metadata": {},
   "outputs": [
    {
     "data": {
      "application/vnd.jupyter.widget-view+json": {
       "model_id": "638342d5e05346b4b367260b8bec04c5",
       "version_major": 2,
       "version_minor": 0
      },
      "text/plain": [
       "VBox()"
      ]
     },
     "metadata": {},
     "output_type": "display_data"
    },
    {
     "data": {
      "application/vnd.jupyter.widget-view+json": {
       "model_id": "",
       "version_major": 2,
       "version_minor": 0
      },
      "text/plain": [
       "FloatProgress(value=0.0, bar_style='info', description='Progress:', layout=Layout(height='25px', width='50%'),…"
      ]
     },
     "metadata": {},
     "output_type": "display_data"
    },
    {
     "name": "stdout",
     "output_type": "stream",
     "text": [
      "[0, 0, 0, 0, 0, 0, 0, 0, 0, 0, 0, 0, 0, 0, 0, 0, 0, 1, 0, 0, 0, 0, 0, 0, 0, 0, 0, 0, 0, 0, 0, 0, 0, 0, 0, 0, 0, 0, 0, 0, 0, 0, 0, 0, 0, 0, 0, 0, 0, 0, 0, 0, 0, 0, 0, 0, 0, 0, 0, 0, 0, 0, 0, 0, 0, 0, 0, 0, 0, 0, 0, 0, 0, 0, 0, 0, 0, 0, 0, 0, 0, 0, 0, 0, 0, 0, 0, 0, 0, 0, 0, 0, 0, 0, 0, 0, 0, 0, 0, 0, 0, 0, 0, 0, 0, 0, 0, 0, 0, 0, 0, 0, 0, 0, 0, 0, 0, 0, 0, 0, 0, 0, 0, 0, 0, 0, 0, 0, 0, 0, 0, 0, 0, 0, 0, 0, 0, 0, 0, 0, 0, 0, 0, 0, 0, 0, 0, 0, 0, 0, 0, 0, 0, 0, 0, 0, 0, 0, 0, 0, 0, 0, 0, 0, 0, 0, 0, 0, 0, 0, 0, 0, 0, 0, 0, 0, 0, 0, 0, 0, 0, 0, 0, 0, 0, 0, 0, 0, 0, 0, 0, 0, 0, 0, 0, 0, 0, 0, 0, 0, 0, 0, 0, 0, 0, 0, 0, 0, 0, 0, 0, 0, 0, 0, 0, 0, 0, 0, 0, 0, 0, 0, 0, 0, 0, 0, 0, 0, 0, 0, 0, 0, 0, 0, 0, 0, 0, 0, 0, 0, 0, 0, 0, 0, 0, 0, 0, 0, 0, 0, 0, 0, 0, 0, 0, 0, 0, 0, 0, 0]"
     ]
    }
   ],
   "source": [
    "kt.values.tolist()[0]"
   ]
  },
  {
   "cell_type": "code",
   "execution_count": 9,
   "metadata": {},
   "outputs": [
    {
     "data": {
      "application/vnd.jupyter.widget-view+json": {
       "model_id": "f11b4cda60ad4fa7ae00e2101078cbe7",
       "version_major": 2,
       "version_minor": 0
      },
      "text/plain": [
       "VBox()"
      ]
     },
     "metadata": {},
     "output_type": "display_data"
    },
    {
     "data": {
      "application/vnd.jupyter.widget-view+json": {
       "model_id": "",
       "version_major": 2,
       "version_minor": 0
      },
      "text/plain": [
       "FloatProgress(value=0.0, bar_style='info', description='Progress:', layout=Layout(height='25px', width='50%'),…"
      ]
     },
     "metadata": {},
     "output_type": "display_data"
    }
   ],
   "source": [
    "stat, p, dof, expected = chi2_contingency(kt.values.tolist())"
   ]
  },
  {
   "cell_type": "code",
   "execution_count": 10,
   "metadata": {},
   "outputs": [
    {
     "data": {
      "application/vnd.jupyter.widget-view+json": {
       "model_id": "d5116b33c98f45ff93a5fa418177a44d",
       "version_major": 2,
       "version_minor": 0
      },
      "text/plain": [
       "VBox()"
      ]
     },
     "metadata": {},
     "output_type": "display_data"
    },
    {
     "data": {
      "application/vnd.jupyter.widget-view+json": {
       "model_id": "",
       "version_major": 2,
       "version_minor": 0
      },
      "text/plain": [
       "FloatProgress(value=0.0, bar_style='info', description='Progress:', layout=Layout(height='25px', width='50%'),…"
      ]
     },
     "metadata": {},
     "output_type": "display_data"
    },
    {
     "name": "stdout",
     "output_type": "stream",
     "text": [
      "dof=1334368\n",
      "[[7.26023088e-05 4.84015392e-05 4.84015392e-05 ... 4.84015392e-03\n",
      "  7.26023088e-05 7.26023088e-05]\n",
      " [7.26023088e-04 4.84015392e-04 4.84015392e-04 ... 4.84015392e-02\n",
      "  7.26023088e-04 7.26023088e-04]\n",
      " [7.26023088e-05 4.84015392e-05 4.84015392e-05 ... 4.84015392e-03\n",
      "  7.26023088e-05 7.26023088e-05]\n",
      " ...\n",
      " [7.26023088e-05 4.84015392e-05 4.84015392e-05 ... 4.84015392e-03\n",
      "  7.26023088e-05 7.26023088e-05]\n",
      " [7.26023088e-05 4.84015392e-05 4.84015392e-05 ... 4.84015392e-03\n",
      "  7.26023088e-05 7.26023088e-05]\n",
      " [7.26023088e-05 4.84015392e-05 4.84015392e-05 ... 4.84015392e-03\n",
      "  7.26023088e-05 7.26023088e-05]]"
     ]
    }
   ],
   "source": [
    "print('dof=%d' % dof)\n",
    "print(expected)"
   ]
  },
  {
   "cell_type": "code",
   "execution_count": 11,
   "metadata": {},
   "outputs": [
    {
     "data": {
      "application/vnd.jupyter.widget-view+json": {
       "model_id": "ac4959beb37946828924b80feecf1758",
       "version_major": 2,
       "version_minor": 0
      },
      "text/plain": [
       "VBox()"
      ]
     },
     "metadata": {},
     "output_type": "display_data"
    },
    {
     "data": {
      "application/vnd.jupyter.widget-view+json": {
       "model_id": "",
       "version_major": 2,
       "version_minor": 0
      },
      "text/plain": [
       "FloatProgress(value=0.0, bar_style='info', description='Progress:', layout=Layout(height='25px', width='50%'),…"
      ]
     },
     "metadata": {},
     "output_type": "display_data"
    },
    {
     "name": "stdout",
     "output_type": "stream",
     "text": [
      "probability=0.950, critical=1337056.213, stat=3243647.376\n",
      "Dependent (reject H0)\n",
      "significance=0.050, p=0.000\n",
      "Dependent (reject H0)"
     ]
    }
   ],
   "source": [
    "from scipy.stats import chi2\n",
    "# interpret test-statistic\n",
    "prob = 0.95\n",
    "critical = chi2.ppf(prob, dof)\n",
    "print('probability=%.3f, critical=%.3f, stat=%.3f' % (prob, critical, stat))\n",
    "if abs(stat) >= critical:\n",
    "    print('Dependent (reject H0)')\n",
    "else:\n",
    "    print('Independent (fail to reject H0)')\n",
    "\n",
    "# interpret p-value\n",
    "alpha = 1.0 - prob\n",
    "print('significance=%.3f, p=%.3f' % (alpha, p))\n",
    "if p <= alpha:\n",
    "    print('Dependent (reject H0)')\n",
    "else:\n",
    "    print('Independent (fail to reject H0)')"
   ]
  },
  {
   "cell_type": "code",
   "execution_count": null,
   "metadata": {},
   "outputs": [],
   "source": []
  },
  {
   "cell_type": "code",
   "execution_count": 10,
   "metadata": {},
   "outputs": [
    {
     "data": {
      "application/vnd.jupyter.widget-view+json": {
       "model_id": "b79f1bdaf4954550a7dc7bd73af4ef0b",
       "version_major": 2,
       "version_minor": 0
      },
      "text/plain": [
       "VBox()"
      ]
     },
     "metadata": {},
     "output_type": "display_data"
    },
    {
     "data": {
      "application/vnd.jupyter.widget-view+json": {
       "model_id": "",
       "version_major": 2,
       "version_minor": 0
      },
      "text/plain": [
       "FloatProgress(value=0.0, bar_style='info', description='Progress:', layout=Layout(height='25px', width='50%'),…"
      ]
     },
     "metadata": {},
     "output_type": "display_data"
    },
    {
     "name": "stdout",
     "output_type": "stream",
     "text": [
      "root\n",
      " |-- video_id: string (nullable = true)\n",
      " |-- trending_date: string (nullable = true)\n",
      " |-- title: string (nullable = true)\n",
      " |-- channel_title: string (nullable = true)\n",
      " |-- category_id: string (nullable = true)\n",
      " |-- publish_time: string (nullable = true)\n",
      " |-- tags: string (nullable = true)\n",
      " |-- views: double (nullable = true)\n",
      " |-- likes: double (nullable = true)\n",
      " |-- dislikes: double (nullable = true)\n",
      " |-- comment_count: string (nullable = true)\n",
      " |-- thumbnail_link: string (nullable = true)\n",
      " |-- comments_disabled: string (nullable = true)\n",
      " |-- ratings_disabled: string (nullable = true)\n",
      " |-- video_error_or_removed: string (nullable = true)\n",
      " |-- description: string (nullable = true)"
     ]
    }
   ],
   "source": [
    "ca_data.printSchema()"
   ]
  },
  {
   "cell_type": "code",
   "execution_count": 2,
   "metadata": {},
   "outputs": [
    {
     "ename": "SessionManagementException",
     "evalue": "Could not find 'session_name' session in list of saved sessions. Possible sessions are []",
     "output_type": "error",
     "traceback": [
      "\u001b[0;31m---------------------------------------------------------------------------\u001b[0m",
      "\u001b[0;31mSessionManagementException\u001b[0m                Traceback (most recent call last)",
      "\u001b[0;32m<ipython-input-2-2e70ee274218>\u001b[0m in \u001b[0;36m<module>\u001b[0;34m\u001b[0m\n\u001b[0;32m----> 1\u001b[0;31m \u001b[0mget_ipython\u001b[0m\u001b[0;34m(\u001b[0m\u001b[0;34m)\u001b[0m\u001b[0;34m.\u001b[0m\u001b[0mrun_line_magic\u001b[0m\u001b[0;34m(\u001b[0m\u001b[0;34m'matplot'\u001b[0m\u001b[0;34m,\u001b[0m \u001b[0;34m'plt '\u001b[0m\u001b[0;34m)\u001b[0m\u001b[0;34m\u001b[0m\u001b[0;34m\u001b[0m\u001b[0m\n\u001b[0m\u001b[1;32m      2\u001b[0m \u001b[0;32mimport\u001b[0m \u001b[0mpyspark\u001b[0m\u001b[0;34m\u001b[0m\u001b[0;34m\u001b[0m\u001b[0m\n\u001b[1;32m      3\u001b[0m \u001b[0;32mimport\u001b[0m \u001b[0mmatplotlib\u001b[0m\u001b[0;34m.\u001b[0m\u001b[0mpyplot\u001b[0m \u001b[0;32mas\u001b[0m \u001b[0mplt\u001b[0m\u001b[0;34m\u001b[0m\u001b[0;34m\u001b[0m\u001b[0m\n\u001b[1;32m      4\u001b[0m \u001b[0;34m\u001b[0m\u001b[0m\n\u001b[1;32m      5\u001b[0m \u001b[0mplt\u001b[0m\u001b[0;34m.\u001b[0m\u001b[0mclf\u001b[0m\u001b[0;34m(\u001b[0m\u001b[0;34m)\u001b[0m\u001b[0;34m\u001b[0m\u001b[0;34m\u001b[0m\u001b[0m\n",
      "\u001b[0;32m/opt/conda/lib/python3.7/site-packages/IPython/core/interactiveshell.py\u001b[0m in \u001b[0;36mrun_line_magic\u001b[0;34m(self, magic_name, line, _stack_depth)\u001b[0m\n\u001b[1;32m   2315\u001b[0m                 \u001b[0mkwargs\u001b[0m\u001b[0;34m[\u001b[0m\u001b[0;34m'local_ns'\u001b[0m\u001b[0;34m]\u001b[0m \u001b[0;34m=\u001b[0m \u001b[0msys\u001b[0m\u001b[0;34m.\u001b[0m\u001b[0m_getframe\u001b[0m\u001b[0;34m(\u001b[0m\u001b[0mstack_depth\u001b[0m\u001b[0;34m)\u001b[0m\u001b[0;34m.\u001b[0m\u001b[0mf_locals\u001b[0m\u001b[0;34m\u001b[0m\u001b[0;34m\u001b[0m\u001b[0m\n\u001b[1;32m   2316\u001b[0m             \u001b[0;32mwith\u001b[0m \u001b[0mself\u001b[0m\u001b[0;34m.\u001b[0m\u001b[0mbuiltin_trap\u001b[0m\u001b[0;34m:\u001b[0m\u001b[0;34m\u001b[0m\u001b[0;34m\u001b[0m\u001b[0m\n\u001b[0;32m-> 2317\u001b[0;31m                 \u001b[0mresult\u001b[0m \u001b[0;34m=\u001b[0m \u001b[0mfn\u001b[0m\u001b[0;34m(\u001b[0m\u001b[0;34m*\u001b[0m\u001b[0margs\u001b[0m\u001b[0;34m,\u001b[0m \u001b[0;34m**\u001b[0m\u001b[0mkwargs\u001b[0m\u001b[0;34m)\u001b[0m\u001b[0;34m\u001b[0m\u001b[0;34m\u001b[0m\u001b[0m\n\u001b[0m\u001b[1;32m   2318\u001b[0m             \u001b[0;32mreturn\u001b[0m \u001b[0mresult\u001b[0m\u001b[0;34m\u001b[0m\u001b[0;34m\u001b[0m\u001b[0m\n\u001b[1;32m   2319\u001b[0m \u001b[0;34m\u001b[0m\u001b[0m\n",
      "\u001b[0;32m</opt/conda/lib/python3.7/site-packages/decorator.py:decorator-gen-133>\u001b[0m in \u001b[0;36mmatplot\u001b[0;34m(self, line, cell, local_ns)\u001b[0m\n",
      "\u001b[0;32m/opt/conda/lib/python3.7/site-packages/IPython/core/magic.py\u001b[0m in \u001b[0;36m<lambda>\u001b[0;34m(f, *a, **k)\u001b[0m\n\u001b[1;32m    185\u001b[0m     \u001b[0;31m# but it's overkill for just that one bit of state.\u001b[0m\u001b[0;34m\u001b[0m\u001b[0;34m\u001b[0m\u001b[0;34m\u001b[0m\u001b[0m\n\u001b[1;32m    186\u001b[0m     \u001b[0;32mdef\u001b[0m \u001b[0mmagic_deco\u001b[0m\u001b[0;34m(\u001b[0m\u001b[0marg\u001b[0m\u001b[0;34m)\u001b[0m\u001b[0;34m:\u001b[0m\u001b[0;34m\u001b[0m\u001b[0;34m\u001b[0m\u001b[0m\n\u001b[0;32m--> 187\u001b[0;31m         \u001b[0mcall\u001b[0m \u001b[0;34m=\u001b[0m \u001b[0;32mlambda\u001b[0m \u001b[0mf\u001b[0m\u001b[0;34m,\u001b[0m \u001b[0;34m*\u001b[0m\u001b[0ma\u001b[0m\u001b[0;34m,\u001b[0m \u001b[0;34m**\u001b[0m\u001b[0mk\u001b[0m\u001b[0;34m:\u001b[0m \u001b[0mf\u001b[0m\u001b[0;34m(\u001b[0m\u001b[0;34m*\u001b[0m\u001b[0ma\u001b[0m\u001b[0;34m,\u001b[0m \u001b[0;34m**\u001b[0m\u001b[0mk\u001b[0m\u001b[0;34m)\u001b[0m\u001b[0;34m\u001b[0m\u001b[0;34m\u001b[0m\u001b[0m\n\u001b[0m\u001b[1;32m    188\u001b[0m \u001b[0;34m\u001b[0m\u001b[0m\n\u001b[1;32m    189\u001b[0m         \u001b[0;32mif\u001b[0m \u001b[0mcallable\u001b[0m\u001b[0;34m(\u001b[0m\u001b[0marg\u001b[0m\u001b[0;34m)\u001b[0m\u001b[0;34m:\u001b[0m\u001b[0;34m\u001b[0m\u001b[0;34m\u001b[0m\u001b[0m\n",
      "\u001b[0;32m/opt/conda/lib/python3.7/site-packages/sparkmagic/kernels/kernelmagics.py\u001b[0m in \u001b[0;36mmatplot\u001b[0;34m(self, line, cell, local_ns)\u001b[0m\n\u001b[1;32m    416\u001b[0m     \u001b[0;34m@\u001b[0m\u001b[0mline_magic\u001b[0m\u001b[0;34m\u001b[0m\u001b[0;34m\u001b[0m\u001b[0m\n\u001b[1;32m    417\u001b[0m     \u001b[0;32mdef\u001b[0m \u001b[0mmatplot\u001b[0m\u001b[0;34m(\u001b[0m\u001b[0mself\u001b[0m\u001b[0;34m,\u001b[0m \u001b[0mline\u001b[0m\u001b[0;34m,\u001b[0m \u001b[0mcell\u001b[0m\u001b[0;34m=\u001b[0m\u001b[0;34m\"\"\u001b[0m\u001b[0;34m,\u001b[0m \u001b[0mlocal_ns\u001b[0m\u001b[0;34m=\u001b[0m\u001b[0;32mNone\u001b[0m\u001b[0;34m)\u001b[0m\u001b[0;34m:\u001b[0m\u001b[0;34m\u001b[0m\u001b[0;34m\u001b[0m\u001b[0m\n\u001b[0;32m--> 418\u001b[0;31m         \u001b[0msession\u001b[0m \u001b[0;34m=\u001b[0m \u001b[0mself\u001b[0m\u001b[0;34m.\u001b[0m\u001b[0mspark_controller\u001b[0m\u001b[0;34m.\u001b[0m\u001b[0mget_session_by_name_or_default\u001b[0m\u001b[0;34m(\u001b[0m\u001b[0mself\u001b[0m\u001b[0;34m.\u001b[0m\u001b[0msession_name\u001b[0m\u001b[0;34m)\u001b[0m\u001b[0;34m\u001b[0m\u001b[0;34m\u001b[0m\u001b[0m\n\u001b[0m\u001b[1;32m    419\u001b[0m         \u001b[0mcommand\u001b[0m \u001b[0;34m=\u001b[0m \u001b[0mCommand\u001b[0m\u001b[0;34m(\u001b[0m\u001b[0;34m\"%matplot \"\u001b[0m \u001b[0;34m+\u001b[0m \u001b[0mline\u001b[0m\u001b[0;34m)\u001b[0m\u001b[0;34m\u001b[0m\u001b[0;34m\u001b[0m\u001b[0m\n\u001b[1;32m    420\u001b[0m         \u001b[0;34m(\u001b[0m\u001b[0msuccess\u001b[0m\u001b[0;34m,\u001b[0m \u001b[0mout\u001b[0m\u001b[0;34m)\u001b[0m \u001b[0;34m=\u001b[0m \u001b[0mcommand\u001b[0m\u001b[0;34m.\u001b[0m\u001b[0mexecute\u001b[0m\u001b[0;34m(\u001b[0m\u001b[0msession\u001b[0m\u001b[0;34m)\u001b[0m\u001b[0;34m\u001b[0m\u001b[0;34m\u001b[0m\u001b[0m\n",
      "\u001b[0;32m/opt/conda/lib/python3.7/site-packages/sparkmagic/livyclientlib/sparkcontroller.py\u001b[0m in \u001b[0;36mget_session_by_name_or_default\u001b[0;34m(self, client_name)\u001b[0m\n\u001b[1;32m    152\u001b[0m         \u001b[0;32melse\u001b[0m\u001b[0;34m:\u001b[0m\u001b[0;34m\u001b[0m\u001b[0;34m\u001b[0m\u001b[0m\n\u001b[1;32m    153\u001b[0m             \u001b[0mclient_name\u001b[0m \u001b[0;34m=\u001b[0m \u001b[0mclient_name\u001b[0m\u001b[0;34m.\u001b[0m\u001b[0mlower\u001b[0m\u001b[0;34m(\u001b[0m\u001b[0;34m)\u001b[0m\u001b[0;34m\u001b[0m\u001b[0;34m\u001b[0m\u001b[0m\n\u001b[0;32m--> 154\u001b[0;31m             \u001b[0;32mreturn\u001b[0m \u001b[0mself\u001b[0m\u001b[0;34m.\u001b[0m\u001b[0msession_manager\u001b[0m\u001b[0;34m.\u001b[0m\u001b[0mget_session\u001b[0m\u001b[0;34m(\u001b[0m\u001b[0mclient_name\u001b[0m\u001b[0;34m)\u001b[0m\u001b[0;34m\u001b[0m\u001b[0;34m\u001b[0m\u001b[0m\n\u001b[0m\u001b[1;32m    155\u001b[0m \u001b[0;34m\u001b[0m\u001b[0m\n\u001b[1;32m    156\u001b[0m     \u001b[0;32mdef\u001b[0m \u001b[0mget_managed_clients\u001b[0m\u001b[0;34m(\u001b[0m\u001b[0mself\u001b[0m\u001b[0;34m)\u001b[0m\u001b[0;34m:\u001b[0m\u001b[0;34m\u001b[0m\u001b[0;34m\u001b[0m\u001b[0m\n",
      "\u001b[0;32m/opt/conda/lib/python3.7/site-packages/sparkmagic/livyclientlib/sessionmanager.py\u001b[0m in \u001b[0;36mget_session\u001b[0;34m(self, name)\u001b[0m\n\u001b[1;32m     45\u001b[0m             \u001b[0;32mreturn\u001b[0m \u001b[0mself\u001b[0m\u001b[0;34m.\u001b[0m\u001b[0m_sessions\u001b[0m\u001b[0;34m[\u001b[0m\u001b[0mname\u001b[0m\u001b[0;34m]\u001b[0m\u001b[0;34m\u001b[0m\u001b[0;34m\u001b[0m\u001b[0m\n\u001b[1;32m     46\u001b[0m         raise SessionManagementException(u\"Could not find '{}' session in list of saved sessions. Possible sessions are {}\".format(\n\u001b[0;32m---> 47\u001b[0;31m             name, self.get_sessions_list()))\n\u001b[0m\u001b[1;32m     48\u001b[0m \u001b[0;34m\u001b[0m\u001b[0m\n\u001b[1;32m     49\u001b[0m     \u001b[0;32mdef\u001b[0m \u001b[0mget_session_id_for_client\u001b[0m\u001b[0;34m(\u001b[0m\u001b[0mself\u001b[0m\u001b[0;34m,\u001b[0m \u001b[0mname\u001b[0m\u001b[0;34m)\u001b[0m\u001b[0;34m:\u001b[0m\u001b[0;34m\u001b[0m\u001b[0;34m\u001b[0m\u001b[0m\n",
      "\u001b[0;31mSessionManagementException\u001b[0m: Could not find 'session_name' session in list of saved sessions. Possible sessions are []"
     ]
    }
   ],
   "source": [
    "%%local\n",
    "%matplot plt \n",
    "import pyspark\n",
    "import matplotlib.pyplot as plt\n",
    "\n",
    "plt.clf()\n",
    "plt.figure(figsize=(20,10))\n",
    "#def run_regression(ca_data):\n",
    "\n",
    "plt.scatter(ca_data[\"views\"],ca_data[\"likes\"],color=\"blue\",s=15)\n",
    "#plt.savefig(\"Views_Likes.png\")\n",
    "plt.show()\n",
    "\n",
    "#run_regression(ca_data)"
   ]
  },
  {
   "cell_type": "code",
   "execution_count": 3,
   "metadata": {},
   "outputs": [
    {
     "data": {
      "application/vnd.jupyter.widget-view+json": {
       "model_id": "e40760556c154e0cbdf46f788f1b9803",
       "version_major": 2,
       "version_minor": 0
      },
      "text/plain": [
       "VBox()"
      ]
     },
     "metadata": {},
     "output_type": "display_data"
    },
    {
     "name": "stdout",
     "output_type": "stream",
     "text": [
      "Starting Spark application\n"
     ]
    },
    {
     "data": {
      "text/html": [
       "<table>\n",
       "<tr><th>ID</th><th>YARN Application ID</th><th>Kind</th><th>State</th><th>Spark UI</th><th>Driver log</th><th>Current session?</th></tr><tr><td>4</td><td>application_1586547773285_0005</td><td>pyspark</td><td>idle</td><td><a target=\"_blank\" href=\"http://ip-172-31-31-99.us-east-2.compute.internal:20888/proxy/application_1586547773285_0005/\">Link</a></td><td><a target=\"_blank\" href=\"http://ip-172-31-22-34.us-east-2.compute.internal:8042/node/containerlogs/container_1586547773285_0005_01_000001/livy\">Link</a></td><td>✔</td></tr></table>"
      ],
      "text/plain": [
       "<IPython.core.display.HTML object>"
      ]
     },
     "metadata": {},
     "output_type": "display_data"
    },
    {
     "data": {
      "application/vnd.jupyter.widget-view+json": {
       "model_id": "",
       "version_major": 2,
       "version_minor": 0
      },
      "text/plain": [
       "FloatProgress(value=0.0, bar_style='info', description='Progress:', layout=Layout(height='25px', width='50%'),…"
      ]
     },
     "metadata": {},
     "output_type": "display_data"
    },
    {
     "name": "stdout",
     "output_type": "stream",
     "text": [
      "SparkSession available as 'spark'.\n"
     ]
    },
    {
     "data": {
      "application/vnd.jupyter.widget-view+json": {
       "model_id": "",
       "version_major": 2,
       "version_minor": 0
      },
      "text/plain": [
       "FloatProgress(value=0.0, bar_style='info', description='Progress:', layout=Layout(height='25px', width='50%'),…"
      ]
     },
     "metadata": {},
     "output_type": "display_data"
    },
    {
     "name": "stderr",
     "output_type": "stream",
     "text": [
      "name 'ca_data' is not defined\n",
      "Traceback (most recent call last):\n",
      "NameError: name 'ca_data' is not defined\n",
      "\n"
     ]
    }
   ],
   "source": [
    "from pyspark.ml.linalg import Vectors\n",
    "from pyspark.ml.stat import ChiSquareTest\n",
    "\n",
    "\n",
    "r = ChiSquareTest.test(ca_data, \"views\", \"likes\").head()\n",
    "print(\"pValues: \" + str(r.pValues))\n",
    "print(\"degreesOfFreedom: \" + str(r.degreesOfFreedom))\n",
    "print(\"statistics: \" + str(r.statistics))"
   ]
  },
  {
   "cell_type": "code",
   "execution_count": null,
   "metadata": {},
   "outputs": [],
   "source": []
  }
 ],
 "metadata": {
  "kernelspec": {
   "display_name": "PySpark",
   "language": "",
   "name": "pysparkkernel"
  },
  "language_info": {
   "codemirror_mode": {
    "name": "python",
    "version": 2
   },
   "mimetype": "text/x-python",
   "name": "pyspark",
   "pygments_lexer": "python2"
  }
 },
 "nbformat": 4,
 "nbformat_minor": 4
}
